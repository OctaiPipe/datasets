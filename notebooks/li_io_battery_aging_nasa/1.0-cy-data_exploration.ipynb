{
 "cells": [
  {
   "attachments": {},
   "cell_type": "markdown",
   "id": "b628bcf0",
   "metadata": {},
   "source": [
    "# Li-ion Battery Aging Datasets (NASA): Data conversion\n",
    "\n",
    "In this notebook, we load the raw data files (`.mat`) in the Li-ion Battery Aging Datasets, and convert them into `.csv` format.\n",
    "\n",
    "1. Load a `.mat` data file into structured numpy array\n",
    "2. Look at the numpy array structure\n",
    "3. Convert the array into pd DataFrame(s) and export to `.csv` files\n",
    "\n",
    "Reference: B. Saha and K. Goebel (2007). \"Battery Data Set\", NASA Prognostics Data Repository, NASA Ames Research Center, Moffett Field, CA\n",
    "\n",
    "See also https://www.kaggle.com/code/rajeevsharma993/battery-health-nasa-dataset/notebook for data ingestion.\n",
    "\n",
    "```\n",
    "Author: Cedric Yu\n",
    "Last modified: 20230104\n",
    "```"
   ]
  },
  {
   "attachments": {},
   "cell_type": "markdown",
   "id": "cc103795",
   "metadata": {},
   "source": [
    "The raw `.mat` data files all have the following data structure:\n",
    "\n",
    "```\n",
    "Data Structure:\n",
    "cycle:\ttop level structure array containing the charge, discharge and impedance operations\n",
    "\ttype: \toperation  type, can be charge, discharge or impedance\n",
    "\tambient_temperature:\tambient temperature (degree C)\n",
    "\ttime: \tthe date and time of the start of the cycle, in MATLAB  date vector format\n",
    "\tdata:\tdata structure containing the measurements\n",
    "\t   for charge the fields are:\n",
    "\t\tVoltage_measured: \tBattery terminal voltage (Volts)\n",
    "\t\tCurrent_measured:\tBattery output current (Amps)\n",
    "\t\tTemperature_measured: \tBattery temperature (degree C)\n",
    "\t\tCurrent_charge:\t\tCurrent measured at charger (Amps)\n",
    "\t\tVoltage_charge:\t\tVoltage measured at charger (Volts)\n",
    "\t\tTime:\t\t\tTime vector for the cycle (secs)\n",
    "\t   for discharge the fields are:\n",
    "\t\tVoltage_measured: \tBattery terminal voltage (Volts)\n",
    "\t\tCurrent_measured:\tBattery output current (Amps)\n",
    "\t\tTemperature_measured: \tBattery temperature (degree C)\n",
    "\t\tCurrent_charge:\t\tCurrent measured at load (Amps)\n",
    "\t\tVoltage_charge:\t\tVoltage measured at load (Volts)\n",
    "\t\tTime:\t\t\tTime vector for the cycle (secs)\n",
    "\t\tCapacity:\t\tBattery capacity (Ahr) for discharge till 2.7V \n",
    "\t   for impedance the fields are:\n",
    "\t\tSense_current:\t\tCurrent in sense branch (Amps)\n",
    "\t\tBattery_current:\tCurrent in battery branch (Amps)\n",
    "\t\tCurrent_ratio:\t\tRatio of the above currents \n",
    "\t\tBattery_impedance:\tBattery impedance (Ohms) computed from raw data\n",
    "\t\tRectified_impedance:\tCalibrated and smoothed battery impedance (Ohms) \n",
    "\t\tRe:\t\t\tEstimated electrolyte resistance (Ohms)\n",
    "\t\tRct:\t\t\tEstimated charge transfer resistance (Ohms)\n",
    "```\n",
    "\n"
   ]
  },
  {
   "cell_type": "code",
   "execution_count": 45,
   "id": "95c7a0a4-cbf5-49f2-b250-e9d85fcca44b",
   "metadata": {},
   "outputs": [
    {
     "name": "stdout",
     "output_type": "stream",
     "text": [
      "The autoreload extension is already loaded. To reload it, use:\n",
      "  %reload_ext autoreload\n"
     ]
    }
   ],
   "source": [
    "# Load the \"autoreload\" extension so that code can change\n",
    "import datetime\n",
    "from scipy.io import loadmat\n",
    "import numpy as np\n",
    "import os\n",
    "import pandas as pd\n",
    "%load_ext autoreload\n",
    "# Always reload modules so that as you change code in src, it gets loaded\n",
    "%autoreload 2\n",
    "\n",
    "# Import all relevant libraries\n"
   ]
  },
  {
   "attachments": {},
   "cell_type": "markdown",
   "id": "78c8dbc3",
   "metadata": {},
   "source": [
    "### 1. Loading data file"
   ]
  },
  {
   "attachments": {},
   "cell_type": "markdown",
   "id": "87b2af2d",
   "metadata": {},
   "source": [
    "Load a data file"
   ]
  },
  {
   "cell_type": "code",
   "execution_count": 26,
   "id": "2ba11eda",
   "metadata": {},
   "outputs": [],
   "source": [
    "battery_num = 'B0025'\n",
    "filepath = f'../../li_ion_battery_aging_nasa/data/raw/3. BatteryAgingARC_25-44/{battery_num}.mat'\n"
   ]
  },
  {
   "cell_type": "code",
   "execution_count": 168,
   "id": "31b92028",
   "metadata": {},
   "outputs": [
    {
     "data": {
      "text/plain": [
       "'B0025'"
      ]
     },
     "execution_count": 168,
     "metadata": {},
     "output_type": "execute_result"
    }
   ],
   "source": [
    "os.path.basename(filepath).split('.')[0]\n"
   ]
  },
  {
   "attachments": {},
   "cell_type": "markdown",
   "id": "856e047b",
   "metadata": {},
   "source": [
    "Load mat file into structure np array"
   ]
  },
  {
   "cell_type": "code",
   "execution_count": 4,
   "id": "9c0db696",
   "metadata": {},
   "outputs": [],
   "source": [
    "mat = loadmat(filepath)\n"
   ]
  },
  {
   "attachments": {},
   "cell_type": "markdown",
   "id": "80d507d6",
   "metadata": {},
   "source": [
    "## 2. Look at the structured numpy arrays"
   ]
  },
  {
   "attachments": {},
   "cell_type": "markdown",
   "id": "be420e5a",
   "metadata": {},
   "source": [
    "The key containing data is the same as the filename. The other keys can be dropped"
   ]
  },
  {
   "cell_type": "code",
   "execution_count": 5,
   "id": "58d349e6",
   "metadata": {},
   "outputs": [
    {
     "data": {
      "text/plain": [
       "dict_keys(['__header__', '__version__', '__globals__', 'B0025'])"
      ]
     },
     "execution_count": 5,
     "metadata": {},
     "output_type": "execute_result"
    }
   ],
   "source": [
    "mat.keys()\n"
   ]
  },
  {
   "cell_type": "code",
   "execution_count": 9,
   "id": "68f2b314",
   "metadata": {},
   "outputs": [
    {
     "name": "stdout",
     "output_type": "stream",
     "text": [
      "b'MATLAB 5.0 MAT-file, Platform: PCWIN, Created on: Fri Apr 17 00:48:28 2009'\n",
      "1.0\n",
      "[]\n"
     ]
    }
   ],
   "source": [
    "print(mat['__header__'])\n",
    "print(mat['__version__'])\n",
    "print(mat['__globals__'])\n"
   ]
  },
  {
   "cell_type": "code",
   "execution_count": 27,
   "id": "9e4eecfc",
   "metadata": {},
   "outputs": [
    {
     "data": {
      "text/plain": [
       "numpy.ndarray"
      ]
     },
     "execution_count": 27,
     "metadata": {},
     "output_type": "execute_result"
    }
   ],
   "source": [
    "type(mat[battery_num])\n"
   ]
  },
  {
   "cell_type": "code",
   "execution_count": 28,
   "id": "e2def9f0",
   "metadata": {},
   "outputs": [
    {
     "data": {
      "text/plain": [
       "(1, 1)"
      ]
     },
     "execution_count": 28,
     "metadata": {},
     "output_type": "execute_result"
    }
   ],
   "source": [
    "mat[battery_num].shape\n"
   ]
  },
  {
   "attachments": {},
   "cell_type": "markdown",
   "id": "84074481",
   "metadata": {},
   "source": [
    "As given in file description, the top field is `cycle`"
   ]
  },
  {
   "cell_type": "code",
   "execution_count": 29,
   "id": "2f631a38",
   "metadata": {},
   "outputs": [
    {
     "data": {
      "text/plain": [
       "dtype([('cycle', 'O')])"
      ]
     },
     "execution_count": 29,
     "metadata": {},
     "output_type": "execute_result"
    }
   ],
   "source": [
    "mat[battery_num].dtype\n"
   ]
  },
  {
   "cell_type": "code",
   "execution_count": 30,
   "id": "d2befe08",
   "metadata": {},
   "outputs": [
    {
     "name": "stdout",
     "output_type": "stream",
     "text": [
      "[[(array(['impedance'], dtype='<U9'), array([[24]], dtype=uint8), array([[2.0090e+03, 2.0000e+00, 1.3000e+01, 1.9000e+01, 3.0000e+00,\n",
      "          5.2109e+01]]), array([[(array([[864.84991455-3.33048973e+01j, 858.38482666-4.21315041e+01j,\n",
      "                  856.72253418-4.97899857e+01j, 854.00585938-5.65011444e+01j,\n",
      "                  853.94824219-5.53254852e+01j, 852.77819824-6.09274063e+01j,\n",
      "                  851.30688477-6.22546387e+01j, 849.77905273-6.25042915e+01j,\n",
      "                  848.9119873 -6.39757385e+01j, 847.16442871-6.62871246e+01j,\n",
      "                  845.5536499 -5.81814041e+01j, 842.61297607-5.61905594e+01j,\n",
      "                  846.62054443-5.62489433e+01j, 841.32269287-5.77769089e+01j,\n",
      "                  839.11419678-5.58213501e+01j, 841.26696777-3.58519096e+01j,\n",
      "                  840.00018311-3.50512276e+01j, 832.97357178-3.58107758e+01j,\n",
      "                  831.01055908-3.70488548e+01j, 829.92889404-3.69748688e+01j,\n",
      "                  827.62994385-3.89213562e+01j, 828.1619873 +4\n",
      "...\n",
      "45.11 , 1849.188, 1853.25 ,\n",
      "                  1857.36 , 1861.438, 1865.516, 1869.594, 1873.672, 1877.735,\n",
      "                  1881.813, 1885.891, 1890.   , 1894.079, 1898.157, 1902.219,\n",
      "                  1906.297, 1910.375, 1914.454, 1918.516, 1922.625, 1926.704,\n",
      "                  1930.844, 1934.922, 1938.985, 1943.063, 1947.125, 1951.204,\n",
      "                  1955.282, 1959.36 , 1963.422, 1967.5  , 1971.61 , 1975.688,\n",
      "                  1979.766, 1983.844, 1987.907, 1991.985, 1996.063, 2000.172,\n",
      "                  2004.25 , 2008.313, 2012.391, 2016.469, 2020.547, 2024.61 ,\n",
      "                  2028.688, 2032.797, 2036.875, 2040.922, 2045.032, 2049.141,\n",
      "                  2052.313, 2056.375, 2060.454, 2062.547]]))                                                                        ]],\n",
      "        dtype=[('Voltage_measured', 'O'), ('Current_measured', 'O'), ('Temperature_measured', 'O'), ('Current_charge', 'O'), ('Voltage_charge', 'O'), ('Time', 'O')]))                                            ]]\n"
     ]
    }
   ],
   "source": [
    "print(str(mat[battery_num]['cycle'][0, 0])[:1000])\n",
    "print('...')\n",
    "print(str(mat[battery_num]['cycle'][0, 0])[-1000:])\n"
   ]
  },
  {
   "attachments": {},
   "cell_type": "markdown",
   "id": "feb687a9",
   "metadata": {},
   "source": [
    "This file has 80 cycles (each being one of discharge, charge or impedance)"
   ]
  },
  {
   "cell_type": "code",
   "execution_count": 132,
   "id": "09d6fd00",
   "metadata": {},
   "outputs": [
    {
     "data": {
      "text/plain": [
       "(80,)"
      ]
     },
     "execution_count": 132,
     "metadata": {},
     "output_type": "execute_result"
    }
   ],
   "source": [
    "mat[battery_num]['cycle'][0, 0][0].shape\n"
   ]
  },
  {
   "attachments": {},
   "cell_type": "markdown",
   "id": "87f00adf",
   "metadata": {},
   "source": [
    "A look at a discharge cycle"
   ]
  },
  {
   "cell_type": "code",
   "execution_count": 32,
   "id": "c423e036",
   "metadata": {},
   "outputs": [
    {
     "name": "stdout",
     "output_type": "stream",
     "text": [
      "(array(['discharge'], dtype='<U9'), array([[24]], dtype=uint8), array([[2.0090e+03, 2.0000e+00, 1.4000e+01, 4.0000e+00, 3.0000e+00,\n",
      "        3.4578e+01]]), array([[(array([[4.20248467, 4.20255643, 3.73906929, 4.17038292, 3.71143005,\n",
      "                4.1514465 , 3.69086689, 4.13670602, 3.67426536, 4.12473153,\n",
      "                3.66061036, 4.11388937, 3.64915338, 4.10440291, 3.63949767,\n",
      "                4.09541758, 3.63057497, 4.08713943, 3.62383299, 4.07921092,\n",
      "                3.61682344, 4.07155881, 3.61012204, 4.06416308, 3.60481376,\n",
      "                4.05734776, 3.5991097 , 4.05031646, 3.59345821, 4.04339425,\n",
      "                3.58814548, 4.03739664, 3.58352296, 4.03087315, 3.5789718 ,\n",
      "                4.02484199, 3.57466136, 4.0187364 , 3.57026712, 4.01328228,\n",
      "                3.56593104, 4.0074457 , 3.56174272, 4.00194326, 3.55761864,\n",
      "                3.99631488, 3.55348237, 3.99118651, 3.54940335, 3.98545397,\n",
      "                3.54549331, 3.98026689, 3.54102408, 3.97465191, 3.53680671,\n",
      "        \n",
      "...\n",
      "0.594,\n",
      "                5951.11 , 5961.594, 5972.016, 5982.5  , 5992.953, 6003.344,\n",
      "                6013.797, 6024.219, 6034.672, 6045.188, 6055.672, 6066.125,\n",
      "                6076.532, 6087.   , 6097.485, 6107.938, 6118.438, 6128.875,\n",
      "                6139.375, 6149.828, 6160.266, 6170.782, 6181.235, 6191.719,\n",
      "                6202.157, 6212.657, 6223.125, 6233.578, 6244.047, 6254.532,\n",
      "                6265.032, 6275.438, 6285.86 , 6296.282, 6306.719, 6317.157,\n",
      "                6327.641, 6338.125, 6348.672, 6359.047, 6369.547, 6380.016,\n",
      "                6390.5  , 6400.953, 6411.407, 6421.922, 6432.36 , 6442.844,\n",
      "                6453.313, 6463.797, 6474.235, 6484.719, 6495.266, 6505.735,\n",
      "                6516.219]]), array([[1.84856543]]))                                                                           ]],\n",
      "      dtype=[('Voltage_measured', 'O'), ('Current_measured', 'O'), ('Temperature_measured', 'O'), ('Current_load', 'O'), ('Voltage_load', 'O'), ('Time', 'O'), ('Capacity', 'O')]))\n"
     ]
    }
   ],
   "source": [
    "print(str(mat[battery_num]['cycle'][0, 0][0, 5])[:1000])\n",
    "print('...')\n",
    "print(str(mat[battery_num]['cycle'][0, 0][0, 5])[-1000:])\n"
   ]
  },
  {
   "cell_type": "code",
   "execution_count": 38,
   "id": "d72c4226",
   "metadata": {},
   "outputs": [
    {
     "data": {
      "text/plain": [
       "dtype([('type', 'O'), ('ambient_temperature', 'O'), ('time', 'O'), ('data', 'O')])"
      ]
     },
     "execution_count": 38,
     "metadata": {},
     "output_type": "execute_result"
    }
   ],
   "source": [
    "mat[battery_num]['cycle'][0, 0][0, 5].dtype\n"
   ]
  },
  {
   "cell_type": "code",
   "execution_count": 36,
   "id": "7e7753be",
   "metadata": {},
   "outputs": [
    {
     "data": {
      "text/plain": [
       "'discharge'"
      ]
     },
     "execution_count": 36,
     "metadata": {},
     "output_type": "execute_result"
    }
   ],
   "source": [
    "mat[battery_num]['cycle'][0, 0][0, 5]['type'][0]\n"
   ]
  },
  {
   "cell_type": "code",
   "execution_count": 41,
   "id": "80aa6c88",
   "metadata": {},
   "outputs": [
    {
     "data": {
      "text/plain": [
       "24"
      ]
     },
     "execution_count": 41,
     "metadata": {},
     "output_type": "execute_result"
    }
   ],
   "source": [
    "mat[battery_num]['cycle'][0, 0][0, 5]['ambient_temperature'][0, 0]\n"
   ]
  },
  {
   "cell_type": "code",
   "execution_count": 116,
   "id": "1f38a6ad",
   "metadata": {},
   "outputs": [
    {
     "data": {
      "text/plain": [
       "(80,)"
      ]
     },
     "execution_count": 116,
     "metadata": {},
     "output_type": "execute_result"
    }
   ],
   "source": [
    "mat[battery_num]['cycle'][0, 0][0].shape\n"
   ]
  },
  {
   "cell_type": "code",
   "execution_count": null,
   "id": "f085e8db",
   "metadata": {},
   "outputs": [],
   "source": [
    "num_discharge_cycles = 0\n",
    "i = 0\n",
    "for cycle in mat[battery_num]['cycle'][0, 0][0]:\n",
    "    if cycle['type'][0] == 'discharge':\n",
    "        print(i)\n",
    "        num_discharge_cycles += 1\n",
    "    i += 1\n",
    "\n",
    "num_discharge_cycles\n"
   ]
  },
  {
   "cell_type": "markdown",
   "id": "de04756b",
   "metadata": {},
   "source": [
    "Convert mat datetime to Python `datetime`"
   ]
  },
  {
   "cell_type": "code",
   "execution_count": 44,
   "id": "4df9d602",
   "metadata": {},
   "outputs": [
    {
     "name": "stdout",
     "output_type": "stream",
     "text": [
      "[2.0090e+03 2.0000e+00 1.4000e+01 4.0000e+00 3.0000e+00 3.4578e+01]\n"
     ]
    }
   ],
   "source": [
    "dt_mat = mat[battery_num]['cycle'][0, 0][0, 5]['time'][0]\n",
    "print(dt_mat)\n"
   ]
  },
  {
   "cell_type": "code",
   "execution_count": 46,
   "id": "e99bbead",
   "metadata": {},
   "outputs": [
    {
     "data": {
      "text/plain": [
       "datetime.datetime(2009, 2, 14, 4, 3)"
      ]
     },
     "execution_count": 46,
     "metadata": {},
     "output_type": "execute_result"
    }
   ],
   "source": [
    "datetime.datetime(\n",
    "    int(dt_mat[0]),\n",
    "    int(dt_mat[1]),\n",
    "    int(dt_mat[2]),\n",
    "    int(dt_mat[3]),\n",
    "    int(dt_mat[4]))\n"
   ]
  },
  {
   "cell_type": "code",
   "execution_count": 48,
   "id": "d03cd03d",
   "metadata": {},
   "outputs": [
    {
     "data": {
      "text/plain": [
       "dtype([('Voltage_measured', 'O'), ('Current_measured', 'O'), ('Temperature_measured', 'O'), ('Current_load', 'O'), ('Voltage_load', 'O'), ('Time', 'O'), ('Capacity', 'O')])"
      ]
     },
     "execution_count": 48,
     "metadata": {},
     "output_type": "execute_result"
    }
   ],
   "source": [
    "mat[battery_num]['cycle'][0, 0][0, 5]['data'].dtype\n"
   ]
  },
  {
   "cell_type": "code",
   "execution_count": 50,
   "id": "4703d3c8",
   "metadata": {},
   "outputs": [
    {
     "data": {
      "text/plain": [
       "('Voltage_measured',\n",
       " 'Current_measured',\n",
       " 'Temperature_measured',\n",
       " 'Current_load',\n",
       " 'Voltage_load',\n",
       " 'Time',\n",
       " 'Capacity')"
      ]
     },
     "execution_count": 50,
     "metadata": {},
     "output_type": "execute_result"
    }
   ],
   "source": [
    "mat[battery_num]['cycle'][0, 0][0, 5]['data'].dtype.names\n"
   ]
  },
  {
   "cell_type": "code",
   "execution_count": 150,
   "id": "3acbc5f8",
   "metadata": {},
   "outputs": [
    {
     "data": {
      "text/plain": [
       "(1, 637)"
      ]
     },
     "execution_count": 150,
     "metadata": {},
     "output_type": "execute_result"
    }
   ],
   "source": [
    "mat[battery_num]['cycle'][0, 0][0, 5]['data']['Voltage_measured'][0, 0].shape\n"
   ]
  },
  {
   "cell_type": "code",
   "execution_count": 79,
   "id": "82761418",
   "metadata": {},
   "outputs": [
    {
     "data": {
      "text/plain": [
       "3.7390692946249398"
      ]
     },
     "execution_count": 79,
     "metadata": {},
     "output_type": "execute_result"
    }
   ],
   "source": [
    "mat[battery_num]['cycle'][0, 0][0, 5]['data']['Voltage_measured'][0, 0].T.squeeze()[\n",
    "    2]\n"
   ]
  },
  {
   "cell_type": "code",
   "execution_count": 104,
   "id": "0758c07c",
   "metadata": {},
   "outputs": [
    {
     "data": {
      "text/plain": [
       "19.702999999999996"
      ]
     },
     "execution_count": 104,
     "metadata": {},
     "output_type": "execute_result"
    }
   ],
   "source": [
    "mat[battery_num]['cycle'][0, 0][0, 5]['data']['Time'][0, 0].T.squeeze()[2]\n"
   ]
  },
  {
   "attachments": {},
   "cell_type": "markdown",
   "id": "fd6b16f8",
   "metadata": {},
   "source": [
    "Capacity"
   ]
  },
  {
   "cell_type": "code",
   "execution_count": 94,
   "id": "9b01ce1d",
   "metadata": {},
   "outputs": [
    {
     "data": {
      "text/plain": [
       "1.8485654344528386"
      ]
     },
     "execution_count": 94,
     "metadata": {},
     "output_type": "execute_result"
    }
   ],
   "source": [
    "mat[battery_num]['cycle'][0, 0][0, 5]['data']['Capacity'][0, 0][0, 0]\n"
   ]
  },
  {
   "attachments": {},
   "cell_type": "markdown",
   "id": "b862819f",
   "metadata": {},
   "source": [
    "A look at an impedance measurement cycle"
   ]
  },
  {
   "cell_type": "code",
   "execution_count": 156,
   "id": "61da5dcf",
   "metadata": {},
   "outputs": [
    {
     "data": {
      "text/plain": [
       "array(['impedance'], dtype='<U9')"
      ]
     },
     "execution_count": 156,
     "metadata": {},
     "output_type": "execute_result"
    }
   ],
   "source": [
    "mat[battery_num]['cycle'][0, 0][0, 2]['type']\n"
   ]
  },
  {
   "cell_type": "code",
   "execution_count": 154,
   "id": "0b7b6113",
   "metadata": {},
   "outputs": [
    {
     "data": {
      "text/plain": [
       "('Sense_current',\n",
       " 'Battery_current',\n",
       " 'Current_ratio',\n",
       " 'Battery_impedance',\n",
       " 'Rectified_Impedance',\n",
       " 'Re',\n",
       " 'Rct')"
      ]
     },
     "execution_count": 154,
     "metadata": {},
     "output_type": "execute_result"
    }
   ],
   "source": [
    "mat[battery_num]['cycle'][0, 0][0, 2]['data'].dtype.names\n"
   ]
  },
  {
   "attachments": {},
   "cell_type": "markdown",
   "id": "019c90d5",
   "metadata": {},
   "source": [
    "There are less data points in `Rectified_Impedance`. Not sure what to do; drop it."
   ]
  },
  {
   "cell_type": "code",
   "execution_count": 155,
   "id": "6774ea1c",
   "metadata": {},
   "outputs": [
    {
     "name": "stdout",
     "output_type": "stream",
     "text": [
      "(1, 48)\n",
      "(1, 48)\n",
      "(1, 48)\n",
      "(48, 1)\n",
      "(39, 1)\n",
      "(1, 1)\n",
      "(1, 1)\n"
     ]
    }
   ],
   "source": [
    "for name in mat[battery_num]['cycle'][0, 0][0, 2]['data'].dtype.names:\n",
    "    print(mat[battery_num]['cycle'][0, 0][0, 2]['data'][name][0, 0].shape)\n"
   ]
  },
  {
   "cell_type": "code",
   "execution_count": 153,
   "id": "ce6a4969",
   "metadata": {},
   "outputs": [
    {
     "data": {
      "text/plain": [
       "(48,)"
      ]
     },
     "execution_count": 153,
     "metadata": {},
     "output_type": "execute_result"
    }
   ],
   "source": [
    "mat[battery_num]['cycle'][0, 0][0, 0]['data']['Sense_current'][0, 0].squeeze().shape\n"
   ]
  },
  {
   "cell_type": "code",
   "execution_count": 152,
   "id": "797d19c8",
   "metadata": {},
   "outputs": [
    {
     "data": {
      "text/plain": [
       "(48,)"
      ]
     },
     "execution_count": 152,
     "metadata": {},
     "output_type": "execute_result"
    }
   ],
   "source": [
    "mat[battery_num]['cycle'][0, 0][0,\n",
    "                                0]['data']['Battery_impedance'][0, 0].squeeze().shape\n"
   ]
  },
  {
   "attachments": {},
   "cell_type": "markdown",
   "id": "05f498eb",
   "metadata": {},
   "source": [
    "## 3. Convert data into pd DataFrames\n",
    "\n",
    "Convert discharge, charge, and impedance data in the structured numpy array into separate pd DataFrames"
   ]
  },
  {
   "cell_type": "code",
   "execution_count": 118,
   "id": "61e3b5ea",
   "metadata": {},
   "outputs": [
    {
     "data": {
      "text/plain": [
       "(80,)"
      ]
     },
     "execution_count": 118,
     "metadata": {},
     "output_type": "execute_result"
    }
   ],
   "source": [
    "cycles = mat[battery_num]['cycle'][0, 0][0]\n",
    "cycles.shape\n"
   ]
  },
  {
   "cell_type": "code",
   "execution_count": 162,
   "id": "2abae3a6",
   "metadata": {},
   "outputs": [],
   "source": [
    "def load_cycles_to_df(cycles):\n",
    "\n",
    "    def load_charge(cycles):\n",
    "        cycles_dict = []\n",
    "        cycle_num = 0\n",
    "        for n in range(len(cycles)):\n",
    "            cycle = cycles[n]\n",
    "            if cycle['type'][0] != 'charge':\n",
    "                continue\n",
    "            cycle_num = cycle_num + 1\n",
    "            ambient_temperature = cycle['ambient_temperature'][0, 0]\n",
    "            time_start_mat = cycle['time'][0]\n",
    "            time_start = datetime.datetime(\n",
    "                int(time_start_mat[0]),\n",
    "                int(time_start_mat[1]),\n",
    "                int(time_start_mat[2]),\n",
    "                int(time_start_mat[3]),\n",
    "                int(time_start_mat[4])) + \\\n",
    "                datetime.timedelta(seconds=int(time_start_mat[5]))\n",
    "            data = cycle['data']\n",
    "            data_len = len(data['Time'][0, 0].T.squeeze())\n",
    "            for i in range(data_len):\n",
    "                data_dict = {}\n",
    "                data_dict['cycle_num'] = cycle_num\n",
    "                data_dict['ambient_temperature'] = ambient_temperature\n",
    "                data_dict['cycle_time_start'] = time_start\n",
    "                for name in data.dtype.names:\n",
    "                    data_dict[name] = data[name][0, 0].T.squeeze()[i]\n",
    "\n",
    "                    cycles_dict.append(data_dict)\n",
    "\n",
    "        return cycles_dict\n",
    "\n",
    "    def load_discharge(cycles):\n",
    "        cycles_dict = []\n",
    "        cycle_num = 0\n",
    "        for n in range(len(cycles)):\n",
    "            cycle = cycles[n]\n",
    "            if cycle['type'][0] != 'discharge':\n",
    "                continue\n",
    "            cycle_num = cycle_num + 1\n",
    "            ambient_temperature = cycle['ambient_temperature'][0, 0]\n",
    "            time_start_mat = cycle['time'][0]\n",
    "            time_start = datetime.datetime(\n",
    "                int(time_start_mat[0]),\n",
    "                int(time_start_mat[1]),\n",
    "                int(time_start_mat[2]),\n",
    "                int(time_start_mat[3]),\n",
    "                int(time_start_mat[4])) + \\\n",
    "                datetime.timedelta(seconds=int(time_start_mat[5]))\n",
    "            data = cycle['data']\n",
    "            data_len = len(data['Time'][0, 0].T.squeeze())\n",
    "            for i in range(data_len):\n",
    "                data_dict = {}\n",
    "                data_dict['cycle_num'] = cycle_num\n",
    "                data_dict['ambient_temperature'] = ambient_temperature\n",
    "                data_dict['cycle_time_start'] = time_start\n",
    "                data_dict['Capacity'] = data['Capacity'][0, 0][0, 0]\n",
    "                for name in data.dtype.names:\n",
    "                    if name != 'Capacity':\n",
    "                        data_dict[name] = data[name][0, 0].T.squeeze()[i]\n",
    "                    else:\n",
    "                        pass\n",
    "\n",
    "                    cycles_dict.append(data_dict)\n",
    "\n",
    "        return cycles_dict\n",
    "\n",
    "    def load_impedance(cycles):\n",
    "        cycles_dict = []\n",
    "        cycle_num = 0\n",
    "        for n in range(len(cycles)):\n",
    "            cycle = cycles[n]\n",
    "            if cycle['type'][0] != 'impedance':\n",
    "                continue\n",
    "            cycle_num = cycle_num + 1\n",
    "            ambient_temperature = cycle['ambient_temperature'][0, 0]\n",
    "            time_start_mat = cycle['time'][0]\n",
    "            time_start = datetime.datetime(\n",
    "                int(time_start_mat[0]),\n",
    "                int(time_start_mat[1]),\n",
    "                int(time_start_mat[2]),\n",
    "                int(time_start_mat[3]),\n",
    "                int(time_start_mat[4])) + \\\n",
    "                datetime.timedelta(seconds=int(time_start_mat[5]))\n",
    "            data = cycle['data']\n",
    "            data_len = len(data['Sense_current'][0, 0].T.squeeze())\n",
    "            for i in range(data_len):\n",
    "                data_dict = {}\n",
    "                data_dict['cycle_num'] = cycle_num\n",
    "                data_dict['ambient_temperature'] = ambient_temperature\n",
    "                data_dict['cycle_time_start'] = time_start\n",
    "                data_dict['Re'] = data['Re'][0, 0][0, 0]\n",
    "                data_dict['Rct'] = data['Rct'][0, 0][0, 0]\n",
    "                for name in data.dtype.names:\n",
    "                    if name not in ['Re', 'Rct', 'Rectified_Impedance']:\n",
    "                        data_dict[name] = data[name][0, 0].T.squeeze()[i]\n",
    "\n",
    "                    cycles_dict.append(data_dict)\n",
    "\n",
    "        return cycles_dict\n",
    "\n",
    "    df_charge_cycles = pd.DataFrame.from_dict(load_charge(cycles))\n",
    "    df_discharge_cycles = pd.DataFrame.from_dict(load_discharge(cycles))\n",
    "    df_impedance_cycles = pd.DataFrame.from_dict(load_impedance(cycles))\n",
    "\n",
    "    return df_charge_cycles, df_discharge_cycles, df_impedance_cycles\n"
   ]
  },
  {
   "cell_type": "code",
   "execution_count": 163,
   "id": "293cfd76",
   "metadata": {},
   "outputs": [],
   "source": [
    "df_charge_cycles, df_discharge_cycles, df_impedance_cycles = load_cycles_to_df(\n",
    "    cycles)\n"
   ]
  },
  {
   "cell_type": "code",
   "execution_count": 172,
   "id": "513c2d5b",
   "metadata": {},
   "outputs": [],
   "source": [
    "df_charge_cycles.to_csv('abc.csv', index=False)\n"
   ]
  },
  {
   "cell_type": "code",
   "execution_count": 164,
   "id": "b30fe613",
   "metadata": {},
   "outputs": [
    {
     "data": {
      "text/html": [
       "<div>\n",
       "<style scoped>\n",
       "    .dataframe tbody tr th:only-of-type {\n",
       "        vertical-align: middle;\n",
       "    }\n",
       "\n",
       "    .dataframe tbody tr th {\n",
       "        vertical-align: top;\n",
       "    }\n",
       "\n",
       "    .dataframe thead th {\n",
       "        text-align: right;\n",
       "    }\n",
       "</style>\n",
       "<table border=\"1\" class=\"dataframe\">\n",
       "  <thead>\n",
       "    <tr style=\"text-align: right;\">\n",
       "      <th></th>\n",
       "      <th>cycle_num</th>\n",
       "      <th>ambient_temperature</th>\n",
       "      <th>cycle_time_start</th>\n",
       "      <th>Voltage_measured</th>\n",
       "      <th>Current_measured</th>\n",
       "      <th>Temperature_measured</th>\n",
       "      <th>Current_charge</th>\n",
       "      <th>Voltage_charge</th>\n",
       "      <th>Time</th>\n",
       "    </tr>\n",
       "  </thead>\n",
       "  <tbody>\n",
       "    <tr>\n",
       "      <th>0</th>\n",
       "      <td>1</td>\n",
       "      <td>24</td>\n",
       "      <td>2009-02-13 19:35:35</td>\n",
       "      <td>3.210795</td>\n",
       "      <td>-0.001231</td>\n",
       "      <td>26.935337</td>\n",
       "      <td>-0.002</td>\n",
       "      <td>0.003</td>\n",
       "      <td>0.0</td>\n",
       "    </tr>\n",
       "    <tr>\n",
       "      <th>1</th>\n",
       "      <td>1</td>\n",
       "      <td>24</td>\n",
       "      <td>2009-02-13 19:35:35</td>\n",
       "      <td>3.210795</td>\n",
       "      <td>-0.001231</td>\n",
       "      <td>26.935337</td>\n",
       "      <td>-0.002</td>\n",
       "      <td>0.003</td>\n",
       "      <td>0.0</td>\n",
       "    </tr>\n",
       "    <tr>\n",
       "      <th>2</th>\n",
       "      <td>1</td>\n",
       "      <td>24</td>\n",
       "      <td>2009-02-13 19:35:35</td>\n",
       "      <td>3.210795</td>\n",
       "      <td>-0.001231</td>\n",
       "      <td>26.935337</td>\n",
       "      <td>-0.002</td>\n",
       "      <td>0.003</td>\n",
       "      <td>0.0</td>\n",
       "    </tr>\n",
       "    <tr>\n",
       "      <th>3</th>\n",
       "      <td>1</td>\n",
       "      <td>24</td>\n",
       "      <td>2009-02-13 19:35:35</td>\n",
       "      <td>3.210795</td>\n",
       "      <td>-0.001231</td>\n",
       "      <td>26.935337</td>\n",
       "      <td>-0.002</td>\n",
       "      <td>0.003</td>\n",
       "      <td>0.0</td>\n",
       "    </tr>\n",
       "    <tr>\n",
       "      <th>4</th>\n",
       "      <td>1</td>\n",
       "      <td>24</td>\n",
       "      <td>2009-02-13 19:35:35</td>\n",
       "      <td>3.210795</td>\n",
       "      <td>-0.001231</td>\n",
       "      <td>26.935337</td>\n",
       "      <td>-0.002</td>\n",
       "      <td>0.003</td>\n",
       "      <td>0.0</td>\n",
       "    </tr>\n",
       "  </tbody>\n",
       "</table>\n",
       "</div>"
      ],
      "text/plain": [
       "   cycle_num  ambient_temperature    cycle_time_start  Voltage_measured  \\\n",
       "0          1                   24 2009-02-13 19:35:35          3.210795   \n",
       "1          1                   24 2009-02-13 19:35:35          3.210795   \n",
       "2          1                   24 2009-02-13 19:35:35          3.210795   \n",
       "3          1                   24 2009-02-13 19:35:35          3.210795   \n",
       "4          1                   24 2009-02-13 19:35:35          3.210795   \n",
       "\n",
       "   Current_measured  Temperature_measured  Current_charge  Voltage_charge  \\\n",
       "0         -0.001231             26.935337          -0.002           0.003   \n",
       "1         -0.001231             26.935337          -0.002           0.003   \n",
       "2         -0.001231             26.935337          -0.002           0.003   \n",
       "3         -0.001231             26.935337          -0.002           0.003   \n",
       "4         -0.001231             26.935337          -0.002           0.003   \n",
       "\n",
       "   Time  \n",
       "0   0.0  \n",
       "1   0.0  \n",
       "2   0.0  \n",
       "3   0.0  \n",
       "4   0.0  "
      ]
     },
     "execution_count": 164,
     "metadata": {},
     "output_type": "execute_result"
    }
   ],
   "source": [
    "df_charge_cycles.head()\n"
   ]
  },
  {
   "cell_type": "code",
   "execution_count": 165,
   "id": "d1dcc458",
   "metadata": {},
   "outputs": [
    {
     "data": {
      "text/html": [
       "<div>\n",
       "<style scoped>\n",
       "    .dataframe tbody tr th:only-of-type {\n",
       "        vertical-align: middle;\n",
       "    }\n",
       "\n",
       "    .dataframe tbody tr th {\n",
       "        vertical-align: top;\n",
       "    }\n",
       "\n",
       "    .dataframe thead th {\n",
       "        text-align: right;\n",
       "    }\n",
       "</style>\n",
       "<table border=\"1\" class=\"dataframe\">\n",
       "  <thead>\n",
       "    <tr style=\"text-align: right;\">\n",
       "      <th></th>\n",
       "      <th>cycle_num</th>\n",
       "      <th>ambient_temperature</th>\n",
       "      <th>cycle_time_start</th>\n",
       "      <th>Capacity</th>\n",
       "      <th>Voltage_measured</th>\n",
       "      <th>Current_measured</th>\n",
       "      <th>Temperature_measured</th>\n",
       "      <th>Current_load</th>\n",
       "      <th>Voltage_load</th>\n",
       "      <th>Time</th>\n",
       "    </tr>\n",
       "  </thead>\n",
       "  <tbody>\n",
       "    <tr>\n",
       "      <th>0</th>\n",
       "      <td>1</td>\n",
       "      <td>24</td>\n",
       "      <td>2009-02-13 23:12:28</td>\n",
       "      <td>1.847011</td>\n",
       "      <td>4.196831</td>\n",
       "      <td>0.000296</td>\n",
       "      <td>26.515141</td>\n",
       "      <td>0.0004</td>\n",
       "      <td>0.0</td>\n",
       "      <td>0.0</td>\n",
       "    </tr>\n",
       "    <tr>\n",
       "      <th>1</th>\n",
       "      <td>1</td>\n",
       "      <td>24</td>\n",
       "      <td>2009-02-13 23:12:28</td>\n",
       "      <td>1.847011</td>\n",
       "      <td>4.196831</td>\n",
       "      <td>0.000296</td>\n",
       "      <td>26.515141</td>\n",
       "      <td>0.0004</td>\n",
       "      <td>0.0</td>\n",
       "      <td>0.0</td>\n",
       "    </tr>\n",
       "    <tr>\n",
       "      <th>2</th>\n",
       "      <td>1</td>\n",
       "      <td>24</td>\n",
       "      <td>2009-02-13 23:12:28</td>\n",
       "      <td>1.847011</td>\n",
       "      <td>4.196831</td>\n",
       "      <td>0.000296</td>\n",
       "      <td>26.515141</td>\n",
       "      <td>0.0004</td>\n",
       "      <td>0.0</td>\n",
       "      <td>0.0</td>\n",
       "    </tr>\n",
       "    <tr>\n",
       "      <th>3</th>\n",
       "      <td>1</td>\n",
       "      <td>24</td>\n",
       "      <td>2009-02-13 23:12:28</td>\n",
       "      <td>1.847011</td>\n",
       "      <td>4.196831</td>\n",
       "      <td>0.000296</td>\n",
       "      <td>26.515141</td>\n",
       "      <td>0.0004</td>\n",
       "      <td>0.0</td>\n",
       "      <td>0.0</td>\n",
       "    </tr>\n",
       "    <tr>\n",
       "      <th>4</th>\n",
       "      <td>1</td>\n",
       "      <td>24</td>\n",
       "      <td>2009-02-13 23:12:28</td>\n",
       "      <td>1.847011</td>\n",
       "      <td>4.196831</td>\n",
       "      <td>0.000296</td>\n",
       "      <td>26.515141</td>\n",
       "      <td>0.0004</td>\n",
       "      <td>0.0</td>\n",
       "      <td>0.0</td>\n",
       "    </tr>\n",
       "  </tbody>\n",
       "</table>\n",
       "</div>"
      ],
      "text/plain": [
       "   cycle_num  ambient_temperature    cycle_time_start  Capacity  \\\n",
       "0          1                   24 2009-02-13 23:12:28  1.847011   \n",
       "1          1                   24 2009-02-13 23:12:28  1.847011   \n",
       "2          1                   24 2009-02-13 23:12:28  1.847011   \n",
       "3          1                   24 2009-02-13 23:12:28  1.847011   \n",
       "4          1                   24 2009-02-13 23:12:28  1.847011   \n",
       "\n",
       "   Voltage_measured  Current_measured  Temperature_measured  Current_load  \\\n",
       "0          4.196831          0.000296             26.515141        0.0004   \n",
       "1          4.196831          0.000296             26.515141        0.0004   \n",
       "2          4.196831          0.000296             26.515141        0.0004   \n",
       "3          4.196831          0.000296             26.515141        0.0004   \n",
       "4          4.196831          0.000296             26.515141        0.0004   \n",
       "\n",
       "   Voltage_load  Time  \n",
       "0           0.0   0.0  \n",
       "1           0.0   0.0  \n",
       "2           0.0   0.0  \n",
       "3           0.0   0.0  \n",
       "4           0.0   0.0  "
      ]
     },
     "execution_count": 165,
     "metadata": {},
     "output_type": "execute_result"
    }
   ],
   "source": [
    "df_discharge_cycles.head()\n"
   ]
  },
  {
   "cell_type": "code",
   "execution_count": 170,
   "id": "910fd153",
   "metadata": {},
   "outputs": [
    {
     "data": {
      "text/html": [
       "<div>\n",
       "<style scoped>\n",
       "    .dataframe tbody tr th:only-of-type {\n",
       "        vertical-align: middle;\n",
       "    }\n",
       "\n",
       "    .dataframe tbody tr th {\n",
       "        vertical-align: top;\n",
       "    }\n",
       "\n",
       "    .dataframe thead th {\n",
       "        text-align: right;\n",
       "    }\n",
       "</style>\n",
       "<table border=\"1\" class=\"dataframe\">\n",
       "  <thead>\n",
       "    <tr style=\"text-align: right;\">\n",
       "      <th></th>\n",
       "      <th>cycle_num</th>\n",
       "      <th>ambient_temperature</th>\n",
       "      <th>cycle_time_start</th>\n",
       "      <th>Capacity</th>\n",
       "      <th>Voltage_measured</th>\n",
       "      <th>Current_measured</th>\n",
       "      <th>Temperature_measured</th>\n",
       "      <th>Current_load</th>\n",
       "      <th>Voltage_load</th>\n",
       "      <th>Time</th>\n",
       "    </tr>\n",
       "  </thead>\n",
       "  <tbody>\n",
       "    <tr>\n",
       "      <th>114361</th>\n",
       "      <td>28</td>\n",
       "      <td>24</td>\n",
       "      <td>2009-03-19 10:34:54</td>\n",
       "      <td>1.767789</td>\n",
       "      <td>3.265477</td>\n",
       "      <td>-0.002141</td>\n",
       "      <td>27.286738</td>\n",
       "      <td>0.0006</td>\n",
       "      <td>0.0</td>\n",
       "      <td>6198.75</td>\n",
       "    </tr>\n",
       "    <tr>\n",
       "      <th>114362</th>\n",
       "      <td>28</td>\n",
       "      <td>24</td>\n",
       "      <td>2009-03-19 10:34:54</td>\n",
       "      <td>1.767789</td>\n",
       "      <td>3.265477</td>\n",
       "      <td>-0.002141</td>\n",
       "      <td>27.286738</td>\n",
       "      <td>0.0006</td>\n",
       "      <td>0.0</td>\n",
       "      <td>6198.75</td>\n",
       "    </tr>\n",
       "    <tr>\n",
       "      <th>114363</th>\n",
       "      <td>28</td>\n",
       "      <td>24</td>\n",
       "      <td>2009-03-19 10:34:54</td>\n",
       "      <td>1.767789</td>\n",
       "      <td>3.265477</td>\n",
       "      <td>-0.002141</td>\n",
       "      <td>27.286738</td>\n",
       "      <td>0.0006</td>\n",
       "      <td>0.0</td>\n",
       "      <td>6198.75</td>\n",
       "    </tr>\n",
       "    <tr>\n",
       "      <th>114364</th>\n",
       "      <td>28</td>\n",
       "      <td>24</td>\n",
       "      <td>2009-03-19 10:34:54</td>\n",
       "      <td>1.767789</td>\n",
       "      <td>3.265477</td>\n",
       "      <td>-0.002141</td>\n",
       "      <td>27.286738</td>\n",
       "      <td>0.0006</td>\n",
       "      <td>0.0</td>\n",
       "      <td>6198.75</td>\n",
       "    </tr>\n",
       "    <tr>\n",
       "      <th>114365</th>\n",
       "      <td>28</td>\n",
       "      <td>24</td>\n",
       "      <td>2009-03-19 10:34:54</td>\n",
       "      <td>1.767789</td>\n",
       "      <td>3.265477</td>\n",
       "      <td>-0.002141</td>\n",
       "      <td>27.286738</td>\n",
       "      <td>0.0006</td>\n",
       "      <td>0.0</td>\n",
       "      <td>6198.75</td>\n",
       "    </tr>\n",
       "  </tbody>\n",
       "</table>\n",
       "</div>"
      ],
      "text/plain": [
       "        cycle_num  ambient_temperature    cycle_time_start  Capacity  \\\n",
       "114361         28                   24 2009-03-19 10:34:54  1.767789   \n",
       "114362         28                   24 2009-03-19 10:34:54  1.767789   \n",
       "114363         28                   24 2009-03-19 10:34:54  1.767789   \n",
       "114364         28                   24 2009-03-19 10:34:54  1.767789   \n",
       "114365         28                   24 2009-03-19 10:34:54  1.767789   \n",
       "\n",
       "        Voltage_measured  Current_measured  Temperature_measured  \\\n",
       "114361          3.265477         -0.002141             27.286738   \n",
       "114362          3.265477         -0.002141             27.286738   \n",
       "114363          3.265477         -0.002141             27.286738   \n",
       "114364          3.265477         -0.002141             27.286738   \n",
       "114365          3.265477         -0.002141             27.286738   \n",
       "\n",
       "        Current_load  Voltage_load     Time  \n",
       "114361        0.0006           0.0  6198.75  \n",
       "114362        0.0006           0.0  6198.75  \n",
       "114363        0.0006           0.0  6198.75  \n",
       "114364        0.0006           0.0  6198.75  \n",
       "114365        0.0006           0.0  6198.75  "
      ]
     },
     "execution_count": 170,
     "metadata": {},
     "output_type": "execute_result"
    }
   ],
   "source": [
    "df_discharge_cycles.tail()\n"
   ]
  },
  {
   "cell_type": "code",
   "execution_count": 169,
   "id": "8cd3e571",
   "metadata": {},
   "outputs": [
    {
     "data": {
      "text/html": [
       "<div>\n",
       "<style scoped>\n",
       "    .dataframe tbody tr th:only-of-type {\n",
       "        vertical-align: middle;\n",
       "    }\n",
       "\n",
       "    .dataframe tbody tr th {\n",
       "        vertical-align: top;\n",
       "    }\n",
       "\n",
       "    .dataframe thead th {\n",
       "        text-align: right;\n",
       "    }\n",
       "</style>\n",
       "<table border=\"1\" class=\"dataframe\">\n",
       "  <thead>\n",
       "    <tr style=\"text-align: right;\">\n",
       "      <th></th>\n",
       "      <th>cycle_num</th>\n",
       "      <th>ambient_temperature</th>\n",
       "      <th>cycle_time_start</th>\n",
       "      <th>Re</th>\n",
       "      <th>Rct</th>\n",
       "      <th>Sense_current</th>\n",
       "      <th>Battery_current</th>\n",
       "      <th>Current_ratio</th>\n",
       "      <th>Battery_impedance</th>\n",
       "    </tr>\n",
       "  </thead>\n",
       "  <tbody>\n",
       "    <tr>\n",
       "      <th>7051</th>\n",
       "      <td>21</td>\n",
       "      <td>24</td>\n",
       "      <td>2009-03-19 12:23:39</td>\n",
       "      <td>0.049661</td>\n",
       "      <td>0.082445</td>\n",
       "      <td>795.782654+465.666412j</td>\n",
       "      <td>87.721397+151.827713j</td>\n",
       "      <td>4.569864-2.601026j</td>\n",
       "      <td>0.358917-0.066477j</td>\n",
       "    </tr>\n",
       "    <tr>\n",
       "      <th>7052</th>\n",
       "      <td>21</td>\n",
       "      <td>24</td>\n",
       "      <td>2009-03-19 12:23:39</td>\n",
       "      <td>0.049661</td>\n",
       "      <td>0.082445</td>\n",
       "      <td>795.782654+465.666412j</td>\n",
       "      <td>87.721397+151.827713j</td>\n",
       "      <td>4.569864-2.601026j</td>\n",
       "      <td>0.358917-0.066477j</td>\n",
       "    </tr>\n",
       "    <tr>\n",
       "      <th>7053</th>\n",
       "      <td>21</td>\n",
       "      <td>24</td>\n",
       "      <td>2009-03-19 12:23:39</td>\n",
       "      <td>0.049661</td>\n",
       "      <td>0.082445</td>\n",
       "      <td>795.782654+465.666412j</td>\n",
       "      <td>87.721397+151.827713j</td>\n",
       "      <td>4.569864-2.601026j</td>\n",
       "      <td>0.358917-0.066477j</td>\n",
       "    </tr>\n",
       "    <tr>\n",
       "      <th>7054</th>\n",
       "      <td>21</td>\n",
       "      <td>24</td>\n",
       "      <td>2009-03-19 12:23:39</td>\n",
       "      <td>0.049661</td>\n",
       "      <td>0.082445</td>\n",
       "      <td>795.782654+465.666412j</td>\n",
       "      <td>87.721397+151.827713j</td>\n",
       "      <td>4.569864-2.601026j</td>\n",
       "      <td>0.358917-0.066477j</td>\n",
       "    </tr>\n",
       "    <tr>\n",
       "      <th>7055</th>\n",
       "      <td>21</td>\n",
       "      <td>24</td>\n",
       "      <td>2009-03-19 12:23:39</td>\n",
       "      <td>0.049661</td>\n",
       "      <td>0.082445</td>\n",
       "      <td>795.782654+465.666412j</td>\n",
       "      <td>87.721397+151.827713j</td>\n",
       "      <td>4.569864-2.601026j</td>\n",
       "      <td>0.358917-0.066477j</td>\n",
       "    </tr>\n",
       "  </tbody>\n",
       "</table>\n",
       "</div>"
      ],
      "text/plain": [
       "      cycle_num  ambient_temperature    cycle_time_start        Re       Rct  \\\n",
       "7051         21                   24 2009-03-19 12:23:39  0.049661  0.082445   \n",
       "7052         21                   24 2009-03-19 12:23:39  0.049661  0.082445   \n",
       "7053         21                   24 2009-03-19 12:23:39  0.049661  0.082445   \n",
       "7054         21                   24 2009-03-19 12:23:39  0.049661  0.082445   \n",
       "7055         21                   24 2009-03-19 12:23:39  0.049661  0.082445   \n",
       "\n",
       "               Sense_current        Battery_current       Current_ratio  \\\n",
       "7051  795.782654+465.666412j  87.721397+151.827713j  4.569864-2.601026j   \n",
       "7052  795.782654+465.666412j  87.721397+151.827713j  4.569864-2.601026j   \n",
       "7053  795.782654+465.666412j  87.721397+151.827713j  4.569864-2.601026j   \n",
       "7054  795.782654+465.666412j  87.721397+151.827713j  4.569864-2.601026j   \n",
       "7055  795.782654+465.666412j  87.721397+151.827713j  4.569864-2.601026j   \n",
       "\n",
       "       Battery_impedance  \n",
       "7051  0.358917-0.066477j  \n",
       "7052  0.358917-0.066477j  \n",
       "7053  0.358917-0.066477j  \n",
       "7054  0.358917-0.066477j  \n",
       "7055  0.358917-0.066477j  "
      ]
     },
     "execution_count": 169,
     "metadata": {},
     "output_type": "execute_result"
    }
   ],
   "source": [
    "df_impedance_cycles.tail()\n"
   ]
  },
  {
   "cell_type": "code",
   "execution_count": null,
   "id": "22c79c55",
   "metadata": {},
   "outputs": [],
   "source": []
  },
  {
   "cell_type": "code",
   "execution_count": null,
   "id": "91872fef",
   "metadata": {},
   "outputs": [],
   "source": []
  }
 ],
 "metadata": {
  "kernelspec": {
   "display_name": "venv",
   "language": "python",
   "name": "python3"
  },
  "language_info": {
   "codemirror_mode": {
    "name": "ipython",
    "version": 3
   },
   "file_extension": ".py",
   "mimetype": "text/x-python",
   "name": "python",
   "nbconvert_exporter": "python",
   "pygments_lexer": "ipython3",
   "version": "3.9.12 (main, Jun  1 2022, 11:38:51) \n[GCC 7.5.0]"
  },
  "vscode": {
   "interpreter": {
    "hash": "b5c689ea9e0ba0f6824108011096802ce204a76e31e5e3658d6fd45fa857fc88"
   }
  }
 },
 "nbformat": 4,
 "nbformat_minor": 5
}
