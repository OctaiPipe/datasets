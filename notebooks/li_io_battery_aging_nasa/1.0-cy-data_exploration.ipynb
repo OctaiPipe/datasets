{
 "cells": [
  {
   "attachments": {},
   "cell_type": "markdown",
   "id": "b628bcf0",
   "metadata": {},
   "source": [
    "# Li-ion Battery Aging Datasets (NASA): Data conversion\n",
    "\n",
    "In this notebook, we load the raw data files (`.mat`) in the Li-ion Battery Aging Datasets, and convert them into `.csv` format.\n",
    "\n",
    "1. Load a `.mat` data file into structured numpy array\n",
    "2. Look at the numpy array structure\n",
    "3. Convert the array into pd DataFrame(s) and export to `.csv` files\n",
    "\n",
    "Reference: B. Saha and K. Goebel (2007). \"Battery Data Set\", NASA Prognostics Data Repository, NASA Ames Research Center, Moffett Field, CA\n",
    "\n",
    "See also https://www.kaggle.com/code/rajeevsharma993/battery-health-nasa-dataset/notebook for data ingestion.\n",
    "\n",
    "```\n",
    "Author: Cedric Yu\n",
    "Last modified: 20230104\n",
    "```"
   ]
  },
  {
   "attachments": {},
   "cell_type": "markdown",
   "id": "cc103795",
   "metadata": {},
   "source": [
    "The raw `.mat` data files all have the following data structure:\n",
    "\n",
    "```\n",
    "Data Structure:\n",
    "cycle:\ttop level structure array containing the charge, discharge and impedance operations\n",
    "\ttype: \toperation  type, can be charge, discharge or impedance\n",
    "\tambient_temperature:\tambient temperature (degree C)\n",
    "\ttime: \tthe date and time of the start of the cycle, in MATLAB  date vector format\n",
    "\tdata:\tdata structure containing the measurements\n",
    "\t   for charge the fields are:\n",
    "\t\tVoltage_measured: \tBattery terminal voltage (Volts)\n",
    "\t\tCurrent_measured:\tBattery output current (Amps)\n",
    "\t\tTemperature_measured: \tBattery temperature (degree C)\n",
    "\t\tCurrent_charge:\t\tCurrent measured at charger (Amps)\n",
    "\t\tVoltage_charge:\t\tVoltage measured at charger (Volts)\n",
    "\t\tTime:\t\t\tTime vector for the cycle (secs)\n",
    "\t   for discharge the fields are:\n",
    "\t\tVoltage_measured: \tBattery terminal voltage (Volts)\n",
    "\t\tCurrent_measured:\tBattery output current (Amps)\n",
    "\t\tTemperature_measured: \tBattery temperature (degree C)\n",
    "\t\tCurrent_charge:\t\tCurrent measured at load (Amps)\n",
    "\t\tVoltage_charge:\t\tVoltage measured at load (Volts)\n",
    "\t\tTime:\t\t\tTime vector for the cycle (secs)\n",
    "\t\tCapacity:\t\tBattery capacity (Ahr) for discharge till 2.7V \n",
    "\t   for impedance the fields are:\n",
    "\t\tSense_current:\t\tCurrent in sense branch (Amps)\n",
    "\t\tBattery_current:\tCurrent in battery branch (Amps)\n",
    "\t\tCurrent_ratio:\t\tRatio of the above currents \n",
    "\t\tBattery_impedance:\tBattery impedance (Ohms) computed from raw data\n",
    "\t\tRectified_impedance:\tCalibrated and smoothed battery impedance (Ohms) \n",
    "\t\tRe:\t\t\tEstimated electrolyte resistance (Ohms)\n",
    "\t\tRct:\t\t\tEstimated charge transfer resistance (Ohms)\n",
    "```\n",
    "\n"
   ]
  },
  {
   "cell_type": "code",
   "execution_count": null,
   "id": "95c7a0a4-cbf5-49f2-b250-e9d85fcca44b",
   "metadata": {},
   "outputs": [],
   "source": [
    "# Load the \"autoreload\" extension so that code can change\n",
    "import datetime\n",
    "from scipy.io import loadmat\n",
    "import numpy as np\n",
    "import os\n",
    "import pandas as pd\n",
    "%load_ext autoreload\n",
    "# Always reload modules so that as you change code in src, it gets loaded\n",
    "%autoreload 2\n",
    "\n",
    "# Import all relevant libraries\n"
   ]
  },
  {
   "attachments": {},
   "cell_type": "markdown",
   "id": "78c8dbc3",
   "metadata": {},
   "source": [
    "### 1. Loading data file"
   ]
  },
  {
   "attachments": {},
   "cell_type": "markdown",
   "id": "87b2af2d",
   "metadata": {},
   "source": [
    "Load a data file"
   ]
  },
  {
   "cell_type": "code",
   "execution_count": null,
   "id": "2ba11eda",
   "metadata": {},
   "outputs": [],
   "source": [
    "battery_num = 'B0025'\n",
    "filepath = f'../../li_ion_battery_aging_nasa/data/raw/3. BatteryAgingARC_25-44/{battery_num}.mat'\n"
   ]
  },
  {
   "cell_type": "code",
   "execution_count": null,
   "id": "31b92028",
   "metadata": {},
   "outputs": [],
   "source": [
    "os.path.basename(filepath).split('.')[0]\n"
   ]
  },
  {
   "attachments": {},
   "cell_type": "markdown",
   "id": "856e047b",
   "metadata": {},
   "source": [
    "Load mat file into structure np array"
   ]
  },
  {
   "cell_type": "code",
   "execution_count": null,
   "id": "9c0db696",
   "metadata": {},
   "outputs": [],
   "source": [
    "mat = loadmat(filepath)\n"
   ]
  },
  {
   "attachments": {},
   "cell_type": "markdown",
   "id": "80d507d6",
   "metadata": {},
   "source": [
    "## 2. Look at the structured numpy arrays"
   ]
  },
  {
   "attachments": {},
   "cell_type": "markdown",
   "id": "be420e5a",
   "metadata": {},
   "source": [
    "The key containing data is the same as the filename. The other keys can be dropped"
   ]
  },
  {
   "cell_type": "code",
   "execution_count": null,
   "id": "58d349e6",
   "metadata": {},
   "outputs": [],
   "source": [
    "mat.keys()\n"
   ]
  },
  {
   "cell_type": "code",
   "execution_count": null,
   "id": "68f2b314",
   "metadata": {},
   "outputs": [],
   "source": [
    "print(mat['__header__'])\n",
    "print(mat['__version__'])\n",
    "print(mat['__globals__'])\n"
   ]
  },
  {
   "cell_type": "code",
   "execution_count": null,
   "id": "9e4eecfc",
   "metadata": {},
   "outputs": [],
   "source": [
    "type(mat[battery_num])\n"
   ]
  },
  {
   "cell_type": "code",
   "execution_count": null,
   "id": "e2def9f0",
   "metadata": {},
   "outputs": [],
   "source": [
    "mat[battery_num].shape\n"
   ]
  },
  {
   "attachments": {},
   "cell_type": "markdown",
   "id": "84074481",
   "metadata": {},
   "source": [
    "As given in file description, the top field is `cycle`"
   ]
  },
  {
   "cell_type": "code",
   "execution_count": null,
   "id": "2f631a38",
   "metadata": {},
   "outputs": [],
   "source": [
    "mat[battery_num].dtype\n"
   ]
  },
  {
   "cell_type": "code",
   "execution_count": null,
   "id": "d2befe08",
   "metadata": {},
   "outputs": [],
   "source": [
    "print(str(mat[battery_num]['cycle'][0, 0])[:1000])\n",
    "print('...')\n",
    "print(str(mat[battery_num]['cycle'][0, 0])[-1000:])\n"
   ]
  },
  {
   "attachments": {},
   "cell_type": "markdown",
   "id": "feb687a9",
   "metadata": {},
   "source": [
    "This file has 80 cycles (each being one of discharge, charge or impedance)"
   ]
  },
  {
   "cell_type": "code",
   "execution_count": null,
   "id": "09d6fd00",
   "metadata": {},
   "outputs": [],
   "source": [
    "mat[battery_num]['cycle'][0, 0][0].shape\n"
   ]
  },
  {
   "attachments": {},
   "cell_type": "markdown",
   "id": "87f00adf",
   "metadata": {},
   "source": [
    "A look at a discharge cycle"
   ]
  },
  {
   "cell_type": "code",
   "execution_count": null,
   "id": "c423e036",
   "metadata": {},
   "outputs": [],
   "source": [
    "print(str(mat[battery_num]['cycle'][0, 0][0, 3])[:1000])\n",
    "print('...')\n",
    "print(str(mat[battery_num]['cycle'][0, 0][0, 3])[-1000:])\n"
   ]
  },
  {
   "cell_type": "code",
   "execution_count": null,
   "id": "d72c4226",
   "metadata": {},
   "outputs": [],
   "source": [
    "mat[battery_num]['cycle'][0, 0][0, 3].dtype\n"
   ]
  },
  {
   "cell_type": "code",
   "execution_count": null,
   "id": "7e7753be",
   "metadata": {},
   "outputs": [],
   "source": [
    "mat[battery_num]['cycle'][0, 0][0, 3]['type'][0]\n"
   ]
  },
  {
   "cell_type": "code",
   "execution_count": null,
   "id": "80aa6c88",
   "metadata": {},
   "outputs": [],
   "source": [
    "mat[battery_num]['cycle'][0, 0][0, 3]['ambient_temperature'][0, 0]\n"
   ]
  },
  {
   "cell_type": "code",
   "execution_count": null,
   "id": "1f38a6ad",
   "metadata": {},
   "outputs": [],
   "source": [
    "mat[battery_num]['cycle'][0, 0][0].shape\n"
   ]
  },
  {
   "cell_type": "code",
   "execution_count": null,
   "id": "f085e8db",
   "metadata": {},
   "outputs": [],
   "source": [
    "num_discharge_cycles = 0\n",
    "i = 0\n",
    "for cycle in mat[battery_num]['cycle'][0, 0][0]:\n",
    "    if cycle['type'][0] == 'discharge':\n",
    "        print(i)\n",
    "        num_discharge_cycles += 1\n",
    "    i += 1\n",
    "\n",
    "num_discharge_cycles\n"
   ]
  },
  {
   "cell_type": "markdown",
   "id": "de04756b",
   "metadata": {},
   "source": [
    "Convert mat datetime to Python `datetime`"
   ]
  },
  {
   "cell_type": "code",
   "execution_count": null,
   "id": "4df9d602",
   "metadata": {},
   "outputs": [],
   "source": [
    "dt_mat = mat[battery_num]['cycle'][0, 0][0, 3]['time'][0]\n",
    "print(dt_mat)\n"
   ]
  },
  {
   "cell_type": "code",
   "execution_count": null,
   "id": "e99bbead",
   "metadata": {},
   "outputs": [],
   "source": [
    "datetime.datetime(\n",
    "    int(dt_mat[0]),\n",
    "    int(dt_mat[1]),\n",
    "    int(dt_mat[2]),\n",
    "    int(dt_mat[3]),\n",
    "    int(dt_mat[4]))\n"
   ]
  },
  {
   "cell_type": "code",
   "execution_count": null,
   "id": "d03cd03d",
   "metadata": {},
   "outputs": [],
   "source": [
    "mat[battery_num]['cycle'][0, 0][0, 3]['data'].dtype\n"
   ]
  },
  {
   "cell_type": "code",
   "execution_count": null,
   "id": "4703d3c8",
   "metadata": {},
   "outputs": [],
   "source": [
    "mat[battery_num]['cycle'][0, 0][0, 3]['data'].dtype.names\n"
   ]
  },
  {
   "cell_type": "code",
   "execution_count": null,
   "id": "3acbc5f8",
   "metadata": {},
   "outputs": [],
   "source": [
    "mat[battery_num]['cycle'][0, 0][0, 3]['data']['Voltage_measured'][0, 0].shape\n"
   ]
  },
  {
   "cell_type": "code",
   "execution_count": null,
   "id": "82761418",
   "metadata": {},
   "outputs": [],
   "source": [
    "mat[battery_num]['cycle'][0, 0][0, 3]['data']['Voltage_measured'][0, 0].T.squeeze()[\n",
    "    :10]\n"
   ]
  },
  {
   "cell_type": "code",
   "execution_count": null,
   "id": "99d2b67b",
   "metadata": {},
   "outputs": [],
   "source": [
    "mat[battery_num]['cycle'][0, 0][0, 3]['data']['Time'][0, 0].shape\n"
   ]
  },
  {
   "cell_type": "code",
   "execution_count": null,
   "id": "0758c07c",
   "metadata": {},
   "outputs": [],
   "source": [
    "mat[battery_num]['cycle'][0, 0][0, 3]['data']['Time'][0, 0].T.squeeze()[: 10]\n"
   ]
  },
  {
   "attachments": {},
   "cell_type": "markdown",
   "id": "fd6b16f8",
   "metadata": {},
   "source": [
    "Capacity"
   ]
  },
  {
   "cell_type": "code",
   "execution_count": null,
   "id": "9b01ce1d",
   "metadata": {},
   "outputs": [],
   "source": [
    "mat[battery_num]['cycle'][0, 0][0, 5]['data']['Capacity'][0, 0][0, 0]\n"
   ]
  },
  {
   "attachments": {},
   "cell_type": "markdown",
   "id": "b862819f",
   "metadata": {},
   "source": [
    "A look at an impedance measurement cycle"
   ]
  },
  {
   "cell_type": "code",
   "execution_count": null,
   "id": "61da5dcf",
   "metadata": {},
   "outputs": [],
   "source": [
    "mat[battery_num]['cycle'][0, 0][0, 2]['type']\n"
   ]
  },
  {
   "cell_type": "code",
   "execution_count": null,
   "id": "0b7b6113",
   "metadata": {},
   "outputs": [],
   "source": [
    "mat[battery_num]['cycle'][0, 0][0, 2]['data'].dtype.names\n"
   ]
  },
  {
   "attachments": {},
   "cell_type": "markdown",
   "id": "019c90d5",
   "metadata": {},
   "source": [
    "There are less data points in `Rectified_Impedance`. Not sure what to do; drop it."
   ]
  },
  {
   "cell_type": "code",
   "execution_count": null,
   "id": "6774ea1c",
   "metadata": {},
   "outputs": [],
   "source": [
    "for name in mat[battery_num]['cycle'][0, 0][0, 2]['data'].dtype.names:\n",
    "    print(mat[battery_num]['cycle'][0, 0][0, 2]['data'][name][0, 0].shape)\n"
   ]
  },
  {
   "cell_type": "code",
   "execution_count": null,
   "id": "ce6a4969",
   "metadata": {},
   "outputs": [],
   "source": [
    "mat[battery_num]['cycle'][0, 0][0, 0]['data']['Sense_current'][0, 0].squeeze().shape\n"
   ]
  },
  {
   "cell_type": "code",
   "execution_count": null,
   "id": "797d19c8",
   "metadata": {},
   "outputs": [],
   "source": [
    "mat[battery_num]['cycle'][0, 0][0,\n",
    "                                0]['data']['Battery_impedance'][0, 0].squeeze().shape\n"
   ]
  },
  {
   "attachments": {},
   "cell_type": "markdown",
   "id": "05f498eb",
   "metadata": {},
   "source": [
    "## 3. Convert data into pd DataFrames\n",
    "\n",
    "Convert discharge, charge, and impedance data in the structured numpy array into separate pd DataFrames"
   ]
  },
  {
   "cell_type": "code",
   "execution_count": null,
   "id": "61e3b5ea",
   "metadata": {},
   "outputs": [],
   "source": [
    "cycles = mat[battery_num]['cycle'][0, 0][0]\n",
    "cycles.shape\n"
   ]
  },
  {
   "cell_type": "code",
   "execution_count": null,
   "id": "2abae3a6",
   "metadata": {},
   "outputs": [],
   "source": [
    "def load_cycles_to_df(cycles):\n",
    "\n",
    "    def load_charge(cycles):\n",
    "        cycles_dict = []\n",
    "        cycle_num = 0\n",
    "        for n in range(len(cycles)):\n",
    "            cycle = cycles[n]\n",
    "            if cycle['type'][0] != 'charge':\n",
    "                continue\n",
    "            cycle_num = cycle_num + 1\n",
    "            ambient_temperature = cycle['ambient_temperature'][0, 0]\n",
    "            time_start_mat = cycle['time'][0]\n",
    "            time_start = datetime.datetime(\n",
    "                int(time_start_mat[0]),\n",
    "                int(time_start_mat[1]),\n",
    "                int(time_start_mat[2]),\n",
    "                int(time_start_mat[3]),\n",
    "                int(time_start_mat[4])) + \\\n",
    "                datetime.timedelta(seconds=int(time_start_mat[5]))\n",
    "            data = cycle['data']\n",
    "            data_len = len(data['Time'][0, 0].T.squeeze())\n",
    "            for i in range(data_len):\n",
    "                data_dict = {}\n",
    "                data_dict['cycle_num'] = cycle_num\n",
    "                data_dict['ambient_temperature'] = ambient_temperature\n",
    "                data_dict['cycle_time_start'] = time_start\n",
    "                for name in data.dtype.names:\n",
    "                    data_dict[name] = data[name][0, 0].T.squeeze()[i]\n",
    "\n",
    "                    cycles_dict.append(data_dict)\n",
    "\n",
    "        return cycles_dict\n",
    "\n",
    "    def load_discharge(cycles):\n",
    "        cycles_dict = []\n",
    "        cycle_num = 0\n",
    "        for n in range(len(cycles)):\n",
    "            cycle = cycles[n]\n",
    "            if cycle['type'][0] != 'discharge':\n",
    "                continue\n",
    "            cycle_num = cycle_num + 1\n",
    "            ambient_temperature = cycle['ambient_temperature'][0, 0]\n",
    "            time_start_mat = cycle['time'][0]\n",
    "            time_start = datetime.datetime(\n",
    "                int(time_start_mat[0]),\n",
    "                int(time_start_mat[1]),\n",
    "                int(time_start_mat[2]),\n",
    "                int(time_start_mat[3]),\n",
    "                int(time_start_mat[4])) + \\\n",
    "                datetime.timedelta(seconds=int(time_start_mat[5]))\n",
    "            data = cycle['data']\n",
    "            data_len = len(data['Time'][0, 0].T.squeeze())\n",
    "            for i in range(data_len):\n",
    "                data_dict = {}\n",
    "                data_dict['cycle_num'] = cycle_num\n",
    "                data_dict['ambient_temperature'] = ambient_temperature\n",
    "                data_dict['cycle_time_start'] = time_start\n",
    "                data_dict['Capacity'] = data['Capacity'][0, 0][0, 0]\n",
    "                for name in data.dtype.names:\n",
    "                    if name != 'Capacity':\n",
    "                        data_dict[name] = data[name][0, 0].T.squeeze()[i]\n",
    "                    else:\n",
    "                        pass\n",
    "\n",
    "                    cycles_dict.append(data_dict)\n",
    "\n",
    "        return cycles_dict\n",
    "\n",
    "    def load_impedance(cycles):\n",
    "        cycles_dict = []\n",
    "        cycle_num = 0\n",
    "        for n in range(len(cycles)):\n",
    "            cycle = cycles[n]\n",
    "            if cycle['type'][0] != 'impedance':\n",
    "                continue\n",
    "            cycle_num = cycle_num + 1\n",
    "            ambient_temperature = cycle['ambient_temperature'][0, 0]\n",
    "            time_start_mat = cycle['time'][0]\n",
    "            time_start = datetime.datetime(\n",
    "                int(time_start_mat[0]),\n",
    "                int(time_start_mat[1]),\n",
    "                int(time_start_mat[2]),\n",
    "                int(time_start_mat[3]),\n",
    "                int(time_start_mat[4])) + \\\n",
    "                datetime.timedelta(seconds=int(time_start_mat[5]))\n",
    "            data = cycle['data']\n",
    "            data_len = len(data['Sense_current'][0, 0].T.squeeze())\n",
    "            for i in range(data_len):\n",
    "                data_dict = {}\n",
    "                data_dict['cycle_num'] = cycle_num\n",
    "                data_dict['ambient_temperature'] = ambient_temperature\n",
    "                data_dict['cycle_time_start'] = time_start\n",
    "                data_dict['Re'] = data['Re'][0, 0][0, 0]\n",
    "                data_dict['Rct'] = data['Rct'][0, 0][0, 0]\n",
    "                for name in data.dtype.names:\n",
    "                    if name not in ['Re', 'Rct', 'Rectified_Impedance']:\n",
    "                        data_dict[name] = data[name][0, 0].T.squeeze()[i]\n",
    "\n",
    "                    cycles_dict.append(data_dict)\n",
    "\n",
    "        return cycles_dict\n",
    "\n",
    "    df_charge_cycles = pd.DataFrame.from_dict(load_charge(cycles))\n",
    "    df_discharge_cycles = pd.DataFrame.from_dict(load_discharge(cycles))\n",
    "    df_impedance_cycles = pd.DataFrame.from_dict(load_impedance(cycles))\n",
    "\n",
    "    return df_charge_cycles, df_discharge_cycles, df_impedance_cycles\n"
   ]
  },
  {
   "cell_type": "code",
   "execution_count": null,
   "id": "293cfd76",
   "metadata": {},
   "outputs": [],
   "source": [
    "df_charge_cycles, df_discharge_cycles, df_impedance_cycles = load_cycles_to_df(\n",
    "    cycles)\n"
   ]
  },
  {
   "cell_type": "code",
   "execution_count": null,
   "id": "d1dcc458",
   "metadata": {},
   "outputs": [],
   "source": [
    "df_discharge_cycles.head()\n"
   ]
  },
  {
   "cell_type": "code",
   "execution_count": null,
   "id": "910fd153",
   "metadata": {},
   "outputs": [],
   "source": [
    "df_discharge_cycles.tail()\n"
   ]
  },
  {
   "cell_type": "code",
   "execution_count": null,
   "id": "8cd3e571",
   "metadata": {},
   "outputs": [],
   "source": [
    "df_impedance_cycles.tail()\n"
   ]
  },
  {
   "cell_type": "code",
   "execution_count": null,
   "id": "91872fef",
   "metadata": {},
   "outputs": [],
   "source": []
  }
 ],
 "metadata": {
  "kernelspec": {
   "display_name": "venv",
   "language": "python",
   "name": "python3"
  },
  "language_info": {
   "codemirror_mode": {
    "name": "ipython",
    "version": 3
   },
   "file_extension": ".py",
   "mimetype": "text/x-python",
   "name": "python",
   "nbconvert_exporter": "python",
   "pygments_lexer": "ipython3",
   "version": "3.9.12"
  },
  "vscode": {
   "interpreter": {
    "hash": "b5c689ea9e0ba0f6824108011096802ce204a76e31e5e3658d6fd45fa857fc88"
   }
  }
 },
 "nbformat": 4,
 "nbformat_minor": 5
}
