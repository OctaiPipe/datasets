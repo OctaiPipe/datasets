{
 "cells": [
  {
   "attachments": {},
   "cell_type": "markdown",
   "id": "b628bcf0",
   "metadata": {},
   "source": [
    "# Li-ion Battery Aging Datasets (NASA): Data conversion\n",
    "\n",
    "In this notebook, we convert all `.mat` datafiles in the Li-ion Battery Aging Datasets to csv files.\n",
    "\n",
    "Reference:\n",
    "B. Saha and K. Goebel (2007). \"Battery Data Set\", NASA Prognostics Data Repository, NASA Ames Research Center, Moffett Field, CA\n",
    "\n",
    "```\n",
    "Author: Cedric Yu\n",
    "Last modified: 20230105\n",
    "```"
   ]
  },
  {
   "attachments": {},
   "cell_type": "markdown",
   "id": "cc103795",
   "metadata": {},
   "source": [
    "The raw `.mat` data files all have the following data structure:\n",
    "\n",
    "```\n",
    "Data Structure:\n",
    "cycle:\ttop level structure array containing the charge, discharge and impedance operations\n",
    "\ttype: \toperation  type, can be charge, discharge or impedance\n",
    "\tambient_temperature:\tambient temperature (degree C)\n",
    "\ttime: \tthe date and time of the start of the cycle, in MATLAB  date vector format\n",
    "\tdata:\tdata structure containing the measurements\n",
    "\t   for charge the fields are:\n",
    "\t\tVoltage_measured: \tBattery terminal voltage (Volts)\n",
    "\t\tCurrent_measured:\tBattery output current (Amps)\n",
    "\t\tTemperature_measured: \tBattery temperature (degree C)\n",
    "\t\tCurrent_charge:\t\tCurrent measured at charger (Amps)\n",
    "\t\tVoltage_charge:\t\tVoltage measured at charger (Volts)\n",
    "\t\tTime:\t\t\tTime vector for the cycle (secs)\n",
    "\t   for discharge the fields are:\n",
    "\t\tVoltage_measured: \tBattery terminal voltage (Volts)\n",
    "\t\tCurrent_measured:\tBattery output current (Amps)\n",
    "\t\tTemperature_measured: \tBattery temperature (degree C)\n",
    "\t\tCurrent_charge:\t\tCurrent measured at load (Amps)\n",
    "\t\tVoltage_charge:\t\tVoltage measured at load (Volts)\n",
    "\t\tTime:\t\t\tTime vector for the cycle (secs)\n",
    "\t\tCapacity:\t\tBattery capacity (Ahr) for discharge till 2.7V \n",
    "\t   for impedance the fields are:\n",
    "\t\tSense_current:\t\tCurrent in sense branch (Amps)\n",
    "\t\tBattery_current:\tCurrent in battery branch (Amps)\n",
    "\t\tCurrent_ratio:\t\tRatio of the above currents \n",
    "\t\tBattery_impedance:\tBattery impedance (Ohms) computed from raw data\n",
    "\t\tRectified_impedance:\tCalibrated and smoothed battery impedance (Ohms) \n",
    "\t\tRe:\t\t\tEstimated electrolyte resistance (Ohms)\n",
    "\t\tRct:\t\t\tEstimated charge transfer resistance (Ohms)\n",
    "```\n",
    "\n"
   ]
  },
  {
   "cell_type": "code",
   "execution_count": 43,
   "id": "95c7a0a4-cbf5-49f2-b250-e9d85fcca44b",
   "metadata": {},
   "outputs": [
    {
     "name": "stdout",
     "output_type": "stream",
     "text": [
      "The autoreload extension is already loaded. To reload it, use:\n",
      "  %reload_ext autoreload\n"
     ]
    }
   ],
   "source": [
    "# Load the \"autoreload\" extension so that code can change\n",
    "import gc\n",
    "import os\n",
    "from utils.utils import load_mat_to_np, load_cycles_to_df, load_charge, load_discharge, load_impedance\n",
    "%load_ext autoreload\n",
    "# Always reload modules so that as you change code in src, it gets loaded\n",
    "%autoreload 2\n"
   ]
  },
  {
   "cell_type": "code",
   "execution_count": 15,
   "id": "7ecb1127",
   "metadata": {},
   "outputs": [],
   "source": [
    "processed_dataset_folder = '../../li_ion_battery_aging_nasa/data/processed'\n",
    "os.makedirs(processed_dataset_folder, exist_ok=True)\n"
   ]
  },
  {
   "cell_type": "code",
   "execution_count": 3,
   "id": "c7165689",
   "metadata": {},
   "outputs": [],
   "source": [
    "raw_dataset_folder = '../../li_ion_battery_aging_nasa/data/raw/'\n"
   ]
  },
  {
   "cell_type": "code",
   "execution_count": 8,
   "id": "545cb41a",
   "metadata": {},
   "outputs": [
    {
     "data": {
      "text/plain": [
       "['1. BatteryAgingARC-FY08Q4',\n",
       " '2. BatteryAgingARC_25_26_27_28_P1',\n",
       " '4. BatteryAgingARC_45_46_47_48',\n",
       " '5. BatteryAgingARC_49_50_51_52',\n",
       " '3. BatteryAgingARC_25-44',\n",
       " '6. BatteryAgingARC_53_54_55_56']"
      ]
     },
     "execution_count": 8,
     "metadata": {},
     "output_type": "execute_result"
    }
   ],
   "source": [
    "sub_folders = os.listdir(raw_dataset_folder)\n",
    "sub_folders\n"
   ]
  },
  {
   "cell_type": "code",
   "execution_count": 9,
   "id": "820b2b83",
   "metadata": {},
   "outputs": [
    {
     "data": {
      "text/plain": [
       "['B0018.mat', 'B0007.mat', 'README.txt', 'B0006.mat', 'B0005.mat']"
      ]
     },
     "execution_count": 9,
     "metadata": {},
     "output_type": "execute_result"
    }
   ],
   "source": [
    "os.listdir(os.path.join(raw_dataset_folder, sub_folders[0]))\n"
   ]
  },
  {
   "cell_type": "code",
   "execution_count": 16,
   "id": "4aa27d35",
   "metadata": {},
   "outputs": [
    {
     "data": {
      "text/plain": [
       "'B0018.mat'"
      ]
     },
     "execution_count": 16,
     "metadata": {},
     "output_type": "execute_result"
    }
   ],
   "source": [
    "os.path.basename(os.listdir(os.path.join(\n",
    "    raw_dataset_folder, sub_folders[0]))[0])\n"
   ]
  },
  {
   "cell_type": "code",
   "execution_count": 12,
   "id": "d5469986",
   "metadata": {},
   "outputs": [
    {
     "name": "stdout",
     "output_type": "stream",
     "text": [
      "[]\n",
      "['B0018.mat', 'B0007.mat', 'README.txt', 'B0006.mat', 'B0005.mat']\n",
      "['B0025.mat', 'README.txt', 'B0027.mat', 'B0026.mat', 'B0028.mat']\n",
      "['B0048.mat', 'B0045.mat', 'B0046.mat', 'README_45_46_47_48.txt', 'B0047.mat']\n",
      "['README_49_50_51_52.txt', 'B0050.mat', 'B0049.mat', 'B0051.mat', 'B0052.mat']\n",
      "['B0025.mat', 'B0039.mat', 'README_41_42_43_44.txt', 'README_33_34_36.txt', 'B0032.mat', 'B0031.mat', 'B0034.mat', 'README_38_39_40.txt', 'B0040.mat', 'B0041.mat', 'B0043.mat', 'README_29_30_31_32.txt', 'README_25_26_27_28.txt', 'B0036.mat', 'B0027.mat', 'B0044.mat', 'B0026.mat', 'B0042.mat', 'B0038.mat', 'B0028.mat', 'B0033.mat', 'B0029.mat', 'B0030.mat']\n",
      "['B0056.mat', 'README_53_54_55_56.txt', 'B0053.mat', 'B0055.mat', 'B0054.mat']\n"
     ]
    }
   ],
   "source": [
    "for dirname, dirnames, filenames in os.walk(raw_dataset_folder):\n",
    "    print(filenames)\n",
    "    # # print path to all subdirectories first.\n",
    "    # for subdirname in dirnames:\n",
    "    #     print(os.path.join(dirname, subdirname))\n",
    "\n",
    "    # # print path to all filenames.\n",
    "    # for filename in filenames:\n",
    "    #     print(filename)\n",
    "    #     print(os.path.join(dirname, filename))\n"
   ]
  },
  {
   "cell_type": "code",
   "execution_count": 48,
   "id": "ebb3b89d",
   "metadata": {},
   "outputs": [
    {
     "name": "stdout",
     "output_type": "stream",
     "text": [
      "Processing ../../li_ion_battery_aging_nasa/data/raw/1. BatteryAgingARC-FY08Q4/B0018.mat\n",
      "Processing ../../li_ion_battery_aging_nasa/data/raw/1. BatteryAgingARC-FY08Q4/B0007.mat\n",
      "Processing ../../li_ion_battery_aging_nasa/data/raw/1. BatteryAgingARC-FY08Q4/B0006.mat\n",
      "Processing ../../li_ion_battery_aging_nasa/data/raw/1. BatteryAgingARC-FY08Q4/B0005.mat\n",
      "Processing ../../li_ion_battery_aging_nasa/data/raw/2. BatteryAgingARC_25_26_27_28_P1/B0025.mat\n",
      "Processing ../../li_ion_battery_aging_nasa/data/raw/2. BatteryAgingARC_25_26_27_28_P1/B0027.mat\n",
      "Processing ../../li_ion_battery_aging_nasa/data/raw/2. BatteryAgingARC_25_26_27_28_P1/B0026.mat\n",
      "Processing ../../li_ion_battery_aging_nasa/data/raw/2. BatteryAgingARC_25_26_27_28_P1/B0028.mat\n",
      "Processing ../../li_ion_battery_aging_nasa/data/raw/4. BatteryAgingARC_45_46_47_48/B0048.mat\n",
      "Processing ../../li_ion_battery_aging_nasa/data/raw/4. BatteryAgingARC_45_46_47_48/B0045.mat\n",
      "Processing ../../li_ion_battery_aging_nasa/data/raw/4. BatteryAgingARC_45_46_47_48/B0046.mat\n",
      "Processing ../../li_ion_battery_aging_nasa/data/raw/4. BatteryAgingARC_45_46_47_48/B0047.mat\n",
      "Processing ../../li_ion_battery_aging_nasa/data/raw/5. BatteryAgingARC_49_50_51_52/B0050.mat\n",
      "Cycle 52 has missing Capacity\n",
      "Cycle 54 has missing Capacity\n",
      "Cycle 56 has missing Capacity\n",
      "Cycle 58 has missing Capacity\n",
      "Processing ../../li_ion_battery_aging_nasa/data/raw/5. BatteryAgingARC_49_50_51_52/B0049.mat\n",
      "Processing ../../li_ion_battery_aging_nasa/data/raw/5. BatteryAgingARC_49_50_51_52/B0051.mat\n",
      "Processing ../../li_ion_battery_aging_nasa/data/raw/5. BatteryAgingARC_49_50_51_52/B0052.mat\n",
      "Cycle 10 has missing Capacity\n",
      "Cycle 14 has missing Capacity\n",
      "Cycle 16 has missing Capacity\n",
      "Cycle 18 has missing Capacity\n",
      "Cycle 20 has missing Capacity\n",
      "Cycle 22 has missing Capacity\n",
      "Cycle 26 has missing Capacity\n",
      "Cycle 28 has missing Capacity\n",
      "Cycle 30 has missing Capacity\n",
      "Cycle 32 has missing Capacity\n",
      "Cycle 34 has missing Capacity\n",
      "Cycle 38 has missing Capacity\n",
      "Cycle 40 has missing Capacity\n",
      "Cycle 42 has missing Capacity\n",
      "Cycle 44 has missing Capacity\n",
      "Cycle 46 has missing Capacity\n",
      "Cycle 50 has missing Capacity\n",
      "Cycle 52 has missing Capacity\n",
      "Cycle 54 has missing Capacity\n",
      "Cycle 56 has missing Capacity\n",
      "Cycle 58 has missing Capacity\n",
      "Processing ../../li_ion_battery_aging_nasa/data/raw/3. BatteryAgingARC_25-44/B0025.mat\n",
      "Processing ../../li_ion_battery_aging_nasa/data/raw/3. BatteryAgingARC_25-44/B0039.mat\n",
      "Processing ../../li_ion_battery_aging_nasa/data/raw/3. BatteryAgingARC_25-44/B0032.mat\n",
      "Processing ../../li_ion_battery_aging_nasa/data/raw/3. BatteryAgingARC_25-44/B0031.mat\n",
      "Processing ../../li_ion_battery_aging_nasa/data/raw/3. BatteryAgingARC_25-44/B0034.mat\n",
      "Processing ../../li_ion_battery_aging_nasa/data/raw/3. BatteryAgingARC_25-44/B0040.mat\n",
      "Processing ../../li_ion_battery_aging_nasa/data/raw/3. BatteryAgingARC_25-44/B0041.mat\n",
      "Processing ../../li_ion_battery_aging_nasa/data/raw/3. BatteryAgingARC_25-44/B0043.mat\n",
      "Processing ../../li_ion_battery_aging_nasa/data/raw/3. BatteryAgingARC_25-44/B0036.mat\n",
      "Processing ../../li_ion_battery_aging_nasa/data/raw/3. BatteryAgingARC_25-44/B0027.mat\n",
      "Processing ../../li_ion_battery_aging_nasa/data/raw/3. BatteryAgingARC_25-44/B0044.mat\n",
      "Processing ../../li_ion_battery_aging_nasa/data/raw/3. BatteryAgingARC_25-44/B0026.mat\n",
      "Processing ../../li_ion_battery_aging_nasa/data/raw/3. BatteryAgingARC_25-44/B0042.mat\n",
      "Processing ../../li_ion_battery_aging_nasa/data/raw/3. BatteryAgingARC_25-44/B0038.mat\n",
      "Processing ../../li_ion_battery_aging_nasa/data/raw/3. BatteryAgingARC_25-44/B0028.mat\n",
      "Processing ../../li_ion_battery_aging_nasa/data/raw/3. BatteryAgingARC_25-44/B0033.mat\n",
      "Processing ../../li_ion_battery_aging_nasa/data/raw/3. BatteryAgingARC_25-44/B0029.mat\n",
      "Processing ../../li_ion_battery_aging_nasa/data/raw/3. BatteryAgingARC_25-44/B0030.mat\n",
      "Processing ../../li_ion_battery_aging_nasa/data/raw/6. BatteryAgingARC_53_54_55_56/B0056.mat\n",
      "Processing ../../li_ion_battery_aging_nasa/data/raw/6. BatteryAgingARC_53_54_55_56/B0053.mat\n",
      "Processing ../../li_ion_battery_aging_nasa/data/raw/6. BatteryAgingARC_53_54_55_56/B0055.mat\n",
      "Processing ../../li_ion_battery_aging_nasa/data/raw/6. BatteryAgingARC_53_54_55_56/B0054.mat\n",
      "[]\n"
     ]
    }
   ],
   "source": [
    "error_files = []\n",
    "for sub_folder in os.listdir(raw_dataset_folder):\n",
    "    sub_folder_path = os.path.join(raw_dataset_folder, sub_folder)\n",
    "    processed_dataset_sub_folder = os.path.join(\n",
    "        processed_dataset_folder, sub_folder)\n",
    "    os.makedirs(processed_dataset_sub_folder, exist_ok=True)\n",
    "    mat_files = os.listdir(sub_folder_path)\n",
    "    mat_files = [file for file in mat_files if file.split('.')[-1] == 'mat']\n",
    "\n",
    "    for mat_file in mat_files:\n",
    "        filename = mat_file.split('.')[0]\n",
    "        filepath = os.path.join(sub_folder_path, mat_file)\n",
    "        print(f'Processing {filepath}')\n",
    "        try:\n",
    "            df_charge_cycles, df_discharge_cycles, df_impedance_cycles = \\\n",
    "                load_cycles_to_df(load_mat_to_np(filepath))\n",
    "\n",
    "            df_charge_cycles.to_csv(\n",
    "                os.path.join(processed_dataset_sub_folder,\n",
    "                             filename + '_charge.csv'),\n",
    "                index=False)\n",
    "\n",
    "            df_discharge_cycles.to_csv(\n",
    "                os.path.join(processed_dataset_sub_folder,\n",
    "                             filename + '_discharge.csv'),\n",
    "                index=False)\n",
    "\n",
    "            df_impedance_cycles.to_csv(\n",
    "                os.path.join(processed_dataset_sub_folder,\n",
    "                             filename + '_impedance.csv'),\n",
    "                index=False)\n",
    "\n",
    "        except Exception as e:\n",
    "            print(e)\n",
    "            error_files.append(filepath)\n",
    "\n",
    "print(error_files)\n"
   ]
  },
  {
   "cell_type": "code",
   "execution_count": 19,
   "id": "3f7b99f1",
   "metadata": {},
   "outputs": [
    {
     "name": "stdout",
     "output_type": "stream",
     "text": [
      "['../../li_ion_battery_aging_nasa/data/raw/5. BatteryAgingARC_49_50_51_52/B0050.mat', '../../li_ion_battery_aging_nasa/data/raw/5. BatteryAgingARC_49_50_51_52/B0052.mat']\n"
     ]
    }
   ],
   "source": [
    "print(error_files)\n"
   ]
  }
 ],
 "metadata": {
  "kernelspec": {
   "display_name": "venv",
   "language": "python",
   "name": "python3"
  },
  "language_info": {
   "codemirror_mode": {
    "name": "ipython",
    "version": 3
   },
   "file_extension": ".py",
   "mimetype": "text/x-python",
   "name": "python",
   "nbconvert_exporter": "python",
   "pygments_lexer": "ipython3",
   "version": "3.9.12 (main, Jun  1 2022, 11:38:51) \n[GCC 7.5.0]"
  },
  "vscode": {
   "interpreter": {
    "hash": "b5c689ea9e0ba0f6824108011096802ce204a76e31e5e3658d6fd45fa857fc88"
   }
  }
 },
 "nbformat": 4,
 "nbformat_minor": 5
}
