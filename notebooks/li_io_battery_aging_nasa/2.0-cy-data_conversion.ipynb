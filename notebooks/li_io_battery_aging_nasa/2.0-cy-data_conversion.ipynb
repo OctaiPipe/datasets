{
 "cells": [
  {
   "attachments": {},
   "cell_type": "markdown",
   "id": "b628bcf0",
   "metadata": {},
   "source": [
    "# Li-ion Battery Aging Datasets (NASA): Data conversion\n",
    "\n",
    "In this notebook, we convert all `.mat` datafiles in the Li-ion Battery Aging Datasets to csv files.\n",
    "\n",
    "Reference:\n",
    "B. Saha and K. Goebel (2007). \"Battery Data Set\", NASA Prognostics Data Repository, NASA Ames Research Center, Moffett Field, CA\n",
    "\n",
    "```\n",
    "Author: Cedric Yu\n",
    "Last modified: 20230105\n",
    "```"
   ]
  },
  {
   "attachments": {},
   "cell_type": "markdown",
   "id": "cc103795",
   "metadata": {},
   "source": [
    "The raw `.mat` data files all have the following data structure:\n",
    "\n",
    "```\n",
    "Data Structure:\n",
    "cycle:\ttop level structure array containing the charge, discharge and impedance operations\n",
    "\ttype: \toperation  type, can be charge, discharge or impedance\n",
    "\tambient_temperature:\tambient temperature (degree C)\n",
    "\ttime: \tthe date and time of the start of the cycle, in MATLAB  date vector format\n",
    "\tdata:\tdata structure containing the measurements\n",
    "\t   for charge the fields are:\n",
    "\t\tVoltage_measured: \tBattery terminal voltage (Volts)\n",
    "\t\tCurrent_measured:\tBattery output current (Amps)\n",
    "\t\tTemperature_measured: \tBattery temperature (degree C)\n",
    "\t\tCurrent_charge:\t\tCurrent measured at charger (Amps)\n",
    "\t\tVoltage_charge:\t\tVoltage measured at charger (Volts)\n",
    "\t\tTime:\t\t\tTime vector for the cycle (secs)\n",
    "\t   for discharge the fields are:\n",
    "\t\tVoltage_measured: \tBattery terminal voltage (Volts)\n",
    "\t\tCurrent_measured:\tBattery output current (Amps)\n",
    "\t\tTemperature_measured: \tBattery temperature (degree C)\n",
    "\t\tCurrent_charge:\t\tCurrent measured at load (Amps)\n",
    "\t\tVoltage_charge:\t\tVoltage measured at load (Volts)\n",
    "\t\tTime:\t\t\tTime vector for the cycle (secs)\n",
    "\t\tCapacity:\t\tBattery capacity (Ahr) for discharge till 2.7V \n",
    "\t   for impedance the fields are:\n",
    "\t\tSense_current:\t\tCurrent in sense branch (Amps)\n",
    "\t\tBattery_current:\tCurrent in battery branch (Amps)\n",
    "\t\tCurrent_ratio:\t\tRatio of the above currents \n",
    "\t\tBattery_impedance:\tBattery impedance (Ohms) computed from raw data\n",
    "\t\tRectified_impedance:\tCalibrated and smoothed battery impedance (Ohms) \n",
    "\t\tRe:\t\t\tEstimated electrolyte resistance (Ohms)\n",
    "\t\tRct:\t\t\tEstimated charge transfer resistance (Ohms)\n",
    "```\n",
    "\n"
   ]
  },
  {
   "cell_type": "code",
   "execution_count": null,
   "id": "95c7a0a4-cbf5-49f2-b250-e9d85fcca44b",
   "metadata": {},
   "outputs": [],
   "source": [
    "# Load the \"autoreload\" extension so that code can change\n",
    "import gc\n",
    "import os\n",
    "from utils.utils import load_mat_to_np, load_cycles_to_df, load_charge, load_discharge, load_impedance, convert_data_csv\n",
    "import pandas as pd\n",
    "\n",
    "%load_ext autoreload\n",
    "# Always reload modules so that as you change code in src, it gets loaded\n",
    "%autoreload 2\n"
   ]
  },
  {
   "cell_type": "code",
   "execution_count": null,
   "id": "7ecb1127",
   "metadata": {},
   "outputs": [],
   "source": [
    "processed_dataset_folder = '../../li_ion_battery_aging_nasa/data/processed'\n",
    "os.makedirs(processed_dataset_folder, exist_ok=True)\n"
   ]
  },
  {
   "cell_type": "code",
   "execution_count": null,
   "id": "c7165689",
   "metadata": {},
   "outputs": [],
   "source": [
    "raw_dataset_folder = '../../li_ion_battery_aging_nasa/data/raw/'\n"
   ]
  },
  {
   "cell_type": "code",
   "execution_count": null,
   "id": "ebb3b89d",
   "metadata": {},
   "outputs": [],
   "source": [
    "convert_data_csv(raw_dataset_folder, processed_dataset_folder)\n"
   ]
  },
  {
   "cell_type": "code",
   "execution_count": null,
   "id": "dbd4ed2b",
   "metadata": {},
   "outputs": [],
   "source": []
  }
 ],
 "metadata": {
  "kernelspec": {
   "display_name": "venv",
   "language": "python",
   "name": "python3"
  },
  "language_info": {
   "codemirror_mode": {
    "name": "ipython",
    "version": 3
   },
   "file_extension": ".py",
   "mimetype": "text/x-python",
   "name": "python",
   "nbconvert_exporter": "python",
   "pygments_lexer": "ipython3",
   "version": "3.9.12"
  },
  "vscode": {
   "interpreter": {
    "hash": "b5c689ea9e0ba0f6824108011096802ce204a76e31e5e3658d6fd45fa857fc88"
   }
  }
 },
 "nbformat": 4,
 "nbformat_minor": 5
}
