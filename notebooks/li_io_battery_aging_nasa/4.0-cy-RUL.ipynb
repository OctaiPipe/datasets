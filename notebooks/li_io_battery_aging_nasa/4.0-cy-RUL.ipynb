{
 "cells": [
  {
   "attachments": {},
   "cell_type": "markdown",
   "id": "b628bcf0",
   "metadata": {},
   "source": [
    "# Li-ion Battery Aging Datasets (NASA): as an RUL problem\n",
    "\n",
    "In this notebook, we define an RUL problem out of the dataset, using only the charge and discharge cycle data, and ignoring the impedance measurement data.\n",
    "We focus on data from the four batteries in the `1. BatteryAgingARC-FY08Q4` folder; the experimental conditions on the four batteries are the same within this folder. The (minimally) processed labeled dataset exported from this notebook will be used in the subsequent notebooks for baseline ML model training and evaluation.\n",
    "\n",
    "1. Load data and re-combine charge and discharge cycle data\n",
    "2. Construct cumulative time (`time`) over the whole experiment\n",
    "3. Construct piecewise-linear RUL target label from `time`\n",
    "4. Drop the `Capacity` column (which is not present in charge cycles)\n",
    "\n",
    "\n",
    "Reference:\n",
    "B. Saha and K. Goebel (2007). \"Battery Data Set\", NASA Prognostics Data Repository, NASA Ames Research Center, Moffett Field, CA\n",
    "\n",
    "```\n",
    "Author: Cedric Yu\n",
    "Last modified: 20230105\n",
    "```"
   ]
  },
  {
   "cell_type": "code",
   "execution_count": 1,
   "id": "95c7a0a4-cbf5-49f2-b250-e9d85fcca44b",
   "metadata": {},
   "outputs": [],
   "source": [
    "# Load the \"autoreload\" extension so that code can change\n",
    "import os\n",
    "import pandas as pd\n",
    "import numpy as np\n",
    "from utils.utils import add_RUL\n",
    "\n",
    "%load_ext autoreload\n",
    "# Always reload modules so that as you change code in src, it gets loaded\n",
    "%autoreload 2\n"
   ]
  },
  {
   "attachments": {},
   "cell_type": "markdown",
   "id": "9bedc602",
   "metadata": {},
   "source": [
    "## Load processed battery data"
   ]
  },
  {
   "cell_type": "code",
   "execution_count": 17,
   "id": "2bcf5a6b",
   "metadata": {},
   "outputs": [],
   "source": [
    "datafolder = '../../li_ion_battery_aging_nasa/data/processed/1. BatteryAgingARC-FY08Q4'\n",
    "battery_names = ['B0005', 'B0006', 'B0007', 'B0018']\n",
    "initial_RUL = 1000000.\n",
    "# battery_names = ['B0005']\n"
   ]
  },
  {
   "cell_type": "code",
   "execution_count": 18,
   "id": "1154ea7c",
   "metadata": {},
   "outputs": [],
   "source": [
    "for battery in battery_names:\n",
    "    charge_filepath = os.path.join(datafolder, f'{battery}_charge.csv')\n",
    "    discharge_filepath = os.path.join(datafolder, f'{battery}_discharge.csv')\n",
    "    # impedance_filepath = os.path.join(datafolder, f'{battery}_impedence.csv')\n",
    "\n",
    "    df_charge_cycles = pd.read_csv(charge_filepath)\n",
    "    df_discharge_cycles = pd.read_csv(discharge_filepath)\n",
    "    # df_impedance_cycles = pd.read_csv(impedance_filepath)\n",
    "\n",
    "    # Re-combine charge and discharge cycle data\n",
    "    df_charge_cycles['type'] = 'charge'\n",
    "    df_charge_cycles['Capacity'] = np.nan\n",
    "\n",
    "    df_discharge_cycles['type'] = 'discharge'\n",
    "    # Rename `Current_load` and `Voltage_load` into `Current_charge` and\n",
    "    # `Voltage_charge`. See readme in raw data folder\n",
    "    df_discharge_cycles = df_discharge_cycles.rename(\n",
    "        columns={'Current_load': 'Current_charge',\n",
    "                 'Voltage_load': 'Voltage_charge'})\n",
    "\n",
    "    df = pd.concat([df_charge_cycles, df_discharge_cycles])\n",
    "    df = df.sort_values(['cycle_time_start', 'cycle_num', 'Time'],\n",
    "                        ascending=True)\n",
    "\n",
    "    # construct time column\n",
    "    df_cum_time = df[['cycle_time_start', 'Time']]\\\n",
    "        .groupby(['cycle_time_start']).last().reset_index()\n",
    "    df_cum_time['Time'] = df_cum_time['Time'].shift(fill_value=0)\n",
    "    df_cum_time['Time'] = df_cum_time['Time'].cumsum()\n",
    "    df_cum_time = df_cum_time.rename(columns={'Time': 'cum_time'})\n",
    "    df_ = pd.merge(df, df_cum_time,\n",
    "                   on='cycle_time_start', how='inner').drop_duplicates()\n",
    "    df_['time'] = df_['Time'] + df_['cum_time']\n",
    "    # drop 'Capacity' and other columns\n",
    "    df_ = df_.drop(['Capacity', 'cycle_num', 'cycle_time_start',\n",
    "                    'Time', 'cum_time', 'ambient_temperature'], axis=1)\n",
    "\n",
    "    df_ = add_RUL(df_, piecewise=True, initial_RUL=1000000.)\n",
    "    df_.to_csv(f'./{battery}_RUL.csv', index=False)\n"
   ]
  },
  {
   "cell_type": "code",
   "execution_count": 19,
   "id": "40da6787",
   "metadata": {},
   "outputs": [
    {
     "data": {
      "text/plain": [
       "<AxesSubplot: >"
      ]
     },
     "execution_count": 19,
     "metadata": {},
     "output_type": "execute_result"
    },
    {
     "data": {
      "image/png": "[encoded data removed]",
      "text/plain": [
       "<Figure size 640x480 with 1 Axes>"
      ]
     },
     "metadata": {},
     "output_type": "display_data"
    }
   ],
   "source": [
    "df_['RUL'].plot()\n"
   ]
  },
  {
   "cell_type": "code",
   "execution_count": null,
   "id": "dbd4ed2b",
   "metadata": {},
   "outputs": [],
   "source": []
  }
 ],
 "metadata": {
  "kernelspec": {
   "display_name": "venv",
   "language": "python",
   "name": "python3"
  },
  "language_info": {
   "codemirror_mode": {
    "name": "ipython",
    "version": 3
   },
   "file_extension": ".py",
   "mimetype": "text/x-python",
   "name": "python",
   "nbconvert_exporter": "python",
   "pygments_lexer": "ipython3",
   "version": "3.9.12"
  },
  "vscode": {
   "interpreter": {
    "hash": "b5c689ea9e0ba0f6824108011096802ce204a76e31e5e3658d6fd45fa857fc88"
   }
  }
 },
 "nbformat": 4,
 "nbformat_minor": 5
}
