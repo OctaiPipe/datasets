{
 "cells": [
  {
   "cell_type": "markdown",
   "id": "dc44c72d-775d-4b06-a272-32544a4e7533",
   "metadata": {},
   "source": [
    "# Notebook for a NN regression model for CMAPSS dataset"
   ]
  },
  {
   "cell_type": "code",
   "execution_count": 1,
   "id": "95c7a0a4-cbf5-49f2-b250-e9d85fcca44b",
   "metadata": {},
   "outputs": [],
   "source": [
    "# Load the \"autoreload\" extension so that code can change\n",
    "%load_ext autoreload\n",
    "# Always reload modules so that as you change code in src, it gets loaded\n",
    "%autoreload 2\n",
    "\n",
    "# Import all relevant libraries\n",
    "import numpy as np\n",
    "import pandas as pd\n",
    "import matplotlib.pyplot as plt\n",
    "import seaborn as sns"
   ]
  },
  {
   "cell_type": "code",
   "execution_count": 2,
   "id": "edf7f361-44be-47cc-8493-d114962ba8f0",
   "metadata": {},
   "outputs": [],
   "source": [
    "filename = './data/train_FD001.txt'\n",
    "\n",
    "# Set the column names for the raw CMAPSS data\n",
    "columns = ['machine_number', 'uptime', 'setting_1', 'setting_2', 'setting_3']\n",
    "sensor_measurements = [f'sensor_{i:02d}' for i in range(1, 25)]\n",
    "columns += sensor_measurements\n",
    "\n",
    "# Read plain text file\n",
    "df = pd.read_csv(filename, sep=\" \", names=columns, index_col=False)\n",
    "\n",
    "# Drop dummy columns\n",
    "df.drop(columns=['sensor_22', 'sensor_23', 'sensor_24'], inplace=True)"
   ]
  },
  {
   "cell_type": "code",
   "execution_count": 3,
   "id": "4cd5aa91-2258-407e-8537-5e004e248cc9",
   "metadata": {},
   "outputs": [],
   "source": [
    "# Use the profiler to remove constant values\n",
    "from pandas_profiling import ProfileReport\n",
    "profile = ProfileReport(df)\n",
    "# profile.to_file(\"FD001.html\")"
   ]
  },
  {
   "cell_type": "code",
   "execution_count": 123,
   "id": "c6526ae0-b229-497f-9d01-77ca55835c7c",
   "metadata": {},
   "outputs": [],
   "source": [
    "# Get list of rejected variables due to constant values\n",
    "rejected_features = list(profile.get_rejected_variables())\n",
    "# Remove sensor_06 which is also constant. Comes from viewing the data.\n",
    "rejected_features += ['setting_1', 'setting_2', 'sensor_06']"
   ]
  },
  {
   "cell_type": "code",
   "execution_count": 5,
   "id": "f109d5db-1553-460e-85a0-56df08d6294b",
   "metadata": {},
   "outputs": [],
   "source": [
    "def reference_df_builder(df):\n",
    "    # Reference function\n",
    "    return (df\n",
    "            .assign(sensor_12_13=lambda d: d['sensor_12'] + d['sensor_13'])\n",
    "           )"
   ]
  },
  {
   "cell_type": "code",
   "execution_count": 124,
   "id": "bab07a5c-0824-43f1-ba43-21930ed98b4b",
   "metadata": {},
   "outputs": [
    {
     "data": {
      "text/plain": [
       "['setting_3',\n",
       " 'sensor_01',\n",
       " 'sensor_18',\n",
       " 'sensor_05',\n",
       " 'sensor_19',\n",
       " 'sensor_16',\n",
       " 'sensor_10',\n",
       " 'setting_1',\n",
       " 'setting_2',\n",
       " 'sensor_06']"
      ]
     },
     "execution_count": 124,
     "metadata": {},
     "output_type": "execute_result"
    }
   ],
   "source": [
    "rejected_features"
   ]
  },
  {
   "cell_type": "code",
   "execution_count": 127,
   "id": "0daf95d5-f777-4f4e-b367-08bfe79d1305",
   "metadata": {},
   "outputs": [],
   "source": [
    "def add_train_RUL(grp):\n",
    "    # Apply clipping to RUL based on uptime\n",
    "    grp['RUL'] = (grp['uptime'].max() - grp['uptime'] + 1)\n",
    "    # Apply clipping to RUL\n",
    "    grp['RUL'].clip(upper=125, inplace=True)\n",
    "    return grp\n",
    "\n",
    "def add_test_RUL(grp):\n",
    "    grp['RUL'] += grp['uptime'].max() - grp['uptime']\n",
    "    # Apply clipping to RUL\n",
    "    grp['RUL'].clip(upper=125, inplace=True)\n",
    "    return grp\n",
    "\n",
    "def add_lags(grp_, lag=1):\n",
    "    grp = grp_.copy()\n",
    "    # Remove columns that are not meant to be lagged\n",
    "    cols = grp.columns.difference(['machine_number', 'uptime', 'RUL'])\n",
    "    # Loop over each feature and lag value\n",
    "    for col in cols:\n",
    "        for i in range(1, lag+1):\n",
    "            grp[f'{col}_tm{i:02}'] = grp[f'{col}'].shift(i)\n",
    "    return grp\n",
    "\n",
    "def clean_dataf(df):\n",
    "    return (df\n",
    "             .drop(columns=rejected_features)\n",
    "             .sort_values(by=['machine_number', 'uptime'], axis=0)\n",
    "             .groupby('machine_number')\n",
    "             .apply(add_train_RUL)\n",
    "             # .groupby('machine_number')\n",
    "             # .apply(add_lags, (num_lags))\n",
    "             # .dropna()\n",
    "            )\n",
    "\n",
    "def clean_dataf_test(df):\n",
    "    return (df\n",
    "             .drop(columns=rejected_features)\n",
    "             .sort_values(['machine_number', 'uptime'], axis=0)\n",
    "             .groupby('machine_number')\n",
    "             .apply(add_test_RUL)\n",
    "             # .groupby('machine_number')\n",
    "             # .apply(add_lags, (num_lags))\n",
    "             # .dropna()\n",
    "            )"
   ]
  },
  {
   "cell_type": "code",
   "execution_count": 128,
   "id": "f6e85c4c-c95e-460a-8ba5-38e19c918df7",
   "metadata": {},
   "outputs": [],
   "source": [
    "def add_lagged_vars(df, num_lags, columns_not_lagged):\n",
    "    ''' Takes a time-series dataframe and appends lagged variables using DataFrame.shift() . '''\n",
    "    \n",
    "    # take a copy of the dataframe\n",
    "    df_copy = df.copy() \n",
    "    \n",
    "    # drop the columns that are not to be lagged\n",
    "    for column in columns_not_lagged:\n",
    "        df_copy.drop(column, inplace=True, axis=1)\n",
    "    \n",
    "    # get list of shifted dataframes\n",
    "    shifted_dfs = []\n",
    "    for i in range(1, num_lags+1):\n",
    "        shifted_df = df_copy.shift(i)\n",
    "        shifted_df.columns = [f'{name}_tm{i:02}' for name in df_copy.columns]\n",
    "        shifted_dfs.append(shifted_df)\n",
    "        \n",
    "    # concatenate all the shifted dfs horizontally\n",
    "    new_df = pd.concat(shifted_dfs, axis=1)\n",
    "\n",
    "    # now join the original df to the new df\n",
    "    final_df = pd.concat([df, new_df], axis=1)\n",
    "    \n",
    "    # drop rows with nans created from shifting and reset the index\n",
    "    final_df.dropna(inplace=True)\n",
    "    final_df.reset_index(inplace=True, drop=True)\n",
    "    \n",
    "    return final_df\n",
    "\n",
    "def lag_dataframe(df, num_lags):\n",
    "    ''' Goes through data for each engine unit, and adds lagged variables with add_lagged_vars function. '''\n",
    "    \n",
    "    # get the number of engine units\n",
    "    num_units = df['machine_number'].iloc[-1]\n",
    "    \n",
    "    cols_not_lagged = ['machine_number', 'uptime', 'RUL']\n",
    "    \n",
    "    lagged_dfs = []\n",
    "    for unit in range(1, num_units+1):\n",
    "        # get the data of the current unit\n",
    "        unit_df = df.loc[df['machine_number'] == unit]\n",
    "        \n",
    "        # add on lagged variables\n",
    "        unit_df_lagged = add_lagged_vars(unit_df, num_lags, cols_not_lagged)\n",
    "        lagged_dfs.append(unit_df_lagged)\n",
    "\n",
    "    df_lagged = pd.concat(lagged_dfs, axis=0) \n",
    "    \n",
    "    return df_lagged"
   ]
  },
  {
   "cell_type": "code",
   "execution_count": 129,
   "id": "23a83436-7044-4951-827c-5e16ebcbbbbe",
   "metadata": {},
   "outputs": [],
   "source": [
    "# Now load the test set and apply the same preprocessing\n",
    "df_test = pd.read_csv('./data/test_FD001.txt', sep=\" \", names=columns, index_col=False)\n",
    "\n",
    "# Drop dummy columns\n",
    "df_test.drop(columns=['sensor_22', 'sensor_23', 'sensor_24'], inplace=True)\n",
    "\n",
    "# Load the y_test\n",
    "y_test = pd.read_csv('./data/RUL_FD001.txt', names=['RUL'])\n",
    "y_test['machine_number'] = y_test.index + 1\n",
    "\n",
    "# Join the test X and label dataframes\n",
    "df_test = df_test.join(y_test.set_index('machine_number'), on='machine_number')"
   ]
  },
  {
   "cell_type": "code",
   "execution_count": 130,
   "id": "52d77dd4-b353-4ac9-b565-68ea96e61a13",
   "metadata": {},
   "outputs": [],
   "source": [
    "num_lags = 30\n",
    "\n",
    "# Run the cleaning on the train and test dataframes\n",
    "clean_df = (df\n",
    "            .pipe(clean_dataf)\n",
    "            .pipe(lag_dataframe, num_lags=num_lags)\n",
    "            )\n",
    "clean_df_test = (df_test\n",
    "                 .pipe(clean_dataf_test)\n",
    "                 .pipe(lag_dataframe, num_lags=num_lags)\n",
    "                )"
   ]
  },
  {
   "cell_type": "code",
   "execution_count": 132,
   "id": "418852ce-1603-45ec-9ac1-5fbefc1426e6",
   "metadata": {},
   "outputs": [],
   "source": [
    "X_train = clean_df[(clean_df['machine_number'] >= 1) & (clean_df['machine_number'] <= 50)].copy()\n",
    "y_train = X_train['RUL']\n",
    "X_train.drop(columns=['RUL'], inplace=True)\n",
    "\n",
    "X_test = clean_df_test[(clean_df_test['machine_number'] >= 1) & (clean_df_test['machine_number'] <= 50)].copy()\n",
    "y_test = X_test['RUL']\n",
    "X_test.drop(columns=['RUL'], inplace=True)"
   ]
  },
  {
   "cell_type": "code",
   "execution_count": 134,
   "id": "10bf7997-b61c-4e98-8566-c7117005d2a2",
   "metadata": {},
   "outputs": [],
   "source": [
    "X_train.to_parquet('./data/X_train.parquet.gzip', compression='gzip')\n",
    "X_test.to_parquet('./data/X_test.parquet.gzip', compression='gzip')\n",
    "y_train.to_csv('./data/y_train.csv')\n",
    "y_test.to_csv('./data/y_test.csv')"
   ]
  },
  {
   "cell_type": "code",
   "execution_count": 135,
   "id": "01401d9e-72d8-4fe7-97c9-7eb4c9901dd2",
   "metadata": {},
   "outputs": [],
   "source": [
    "import tensorflow as tf\n",
    "from tensorflow import keras\n",
    "from tensorflow.keras import layers"
   ]
  },
  {
   "cell_type": "code",
   "execution_count": 136,
   "id": "9ab03dec-d0e4-4a93-9705-4c89efe314d7",
   "metadata": {},
   "outputs": [],
   "source": [
    "X_train.drop(columns=['machine_number'], inplace=True)\n",
    "X_test.drop(columns=['machine_number'], inplace=True)"
   ]
  },
  {
   "cell_type": "code",
   "execution_count": 137,
   "id": "1b16810d-2b44-4ab6-a4a9-bf1bcb0e45fb",
   "metadata": {},
   "outputs": [],
   "source": [
    "num_features = X_train.shape[1]"
   ]
  },
  {
   "cell_type": "code",
   "execution_count": 142,
   "id": "fc3c4038-ff44-43c7-9f14-8a0408883994",
   "metadata": {},
   "outputs": [],
   "source": [
    "# Create the model using the functional API approach\n",
    "inputs = keras.Input(shape=(num_features,))\n",
    "x = layers.Dense(32, activation=\"relu\")(inputs)\n",
    "x = layers.Dense(32, activation=\"relu\")(x)\n",
    "x = layers.Dense(32, activation=\"relu\")(x)\n",
    "# x = layers.Dense(64, activation=\"relu\")(x)\n",
    "# x = layers.Dense(64, activation=\"relu\", name=\"dense_7\")(inputs)\n",
    "# x = layers.Dense(64, activation=\"relu\", name=\"dense_8\")(x)\n",
    "outputs = layers.Dense(1)(x)\n",
    "model = keras.Model(inputs=inputs, outputs=outputs, name=\"regress_model\")\n",
    "\n",
    "model.compile(\n",
    "    loss=keras.losses.MeanSquaredError(),\n",
    "    optimizer=tf.keras.optimizers.Adam(learning_rate=0.01),\n",
    "    metrics=['mse', 'mae', 'mape']\n",
    ")"
   ]
  },
  {
   "cell_type": "code",
   "execution_count": 143,
   "id": "91241aac-96b4-4bdf-b5f7-c83544b7ca6e",
   "metadata": {},
   "outputs": [],
   "source": [
    "history = model.fit(\n",
    "    X_train,\n",
    "    y_train,\n",
    "    epochs=50,\n",
    "    # Suppress logging.\n",
    "    verbose=0,\n",
    "    # Calculate validation results on 20% of the training data.\n",
    "    validation_split = 0.2)"
   ]
  },
  {
   "cell_type": "code",
   "execution_count": 144,
   "id": "3a59e9f1-b709-49af-a8e2-caaca45f1f9c",
   "metadata": {},
   "outputs": [],
   "source": [
    "def plot_loss(history):\n",
    "    plt.plot(history.history['loss'], label='loss')\n",
    "    plt.plot(history.history['val_loss'], label='val_loss')\n",
    "    # plt.ylim([0, 10])\n",
    "    plt.xlabel('Epoch')\n",
    "    plt.ylabel('Error RUL')\n",
    "    plt.legend()\n",
    "    plt.grid(True)\n"
   ]
  },
  {
   "cell_type": "code",
   "execution_count": 145,
   "id": "07f1a687-2c88-4023-9636-3fbd8b478a53",
   "metadata": {},
   "outputs": [
    {
     "data": {
      "image/png": "[encoded data removed]",
      "text/plain": [
       "<Figure size 640x480 with 1 Axes>"
      ]
     },
     "metadata": {},
     "output_type": "display_data"
    }
   ],
   "source": [
    "plot_loss(history)\n",
    "plt.show()"
   ]
  },
  {
   "cell_type": "code",
   "execution_count": 120,
   "id": "9deb0e48-78b5-4534-9f82-74b0cb617f85",
   "metadata": {},
   "outputs": [
    {
     "name": "stdout",
     "output_type": "stream",
     "text": [
      "1/1 [==============================] - 0s 54ms/step\n"
     ]
    },
    {
     "data": {
      "text/plain": [
       "array([[78.94624],\n",
       "       [78.94624],\n",
       "       [78.94624],\n",
       "       [78.94624],\n",
       "       [78.94624],\n",
       "       [78.94624],\n",
       "       [78.94624],\n",
       "       [78.94624],\n",
       "       [78.94624],\n",
       "       [78.94624]], dtype=float32)"
      ]
     },
     "execution_count": 120,
     "metadata": {},
     "output_type": "execute_result"
    }
   ],
   "source": [
    "model.predict(X_test[:10])"
   ]
  },
  {
   "cell_type": "code",
   "execution_count": 133,
   "id": "273cf8fd-6c3d-47cc-89c6-d9ef629d319b",
   "metadata": {},
   "outputs": [
    {
     "data": {
      "text/html": [
       "<div>\n",
       "<style scoped>\n",
       "    .dataframe tbody tr th:only-of-type {\n",
       "        vertical-align: middle;\n",
       "    }\n",
       "\n",
       "    .dataframe tbody tr th {\n",
       "        vertical-align: top;\n",
       "    }\n",
       "\n",
       "    .dataframe thead th {\n",
       "        text-align: right;\n",
       "    }\n",
       "</style>\n",
       "<table border=\"1\" class=\"dataframe\">\n",
       "  <thead>\n",
       "    <tr style=\"text-align: right;\">\n",
       "      <th></th>\n",
       "      <th>machine_number</th>\n",
       "      <th>uptime</th>\n",
       "      <th>sensor_02</th>\n",
       "      <th>sensor_03</th>\n",
       "      <th>sensor_04</th>\n",
       "      <th>sensor_07</th>\n",
       "      <th>sensor_08</th>\n",
       "      <th>sensor_09</th>\n",
       "      <th>sensor_11</th>\n",
       "      <th>sensor_12</th>\n",
       "      <th>...</th>\n",
       "      <th>sensor_08_tm30</th>\n",
       "      <th>sensor_09_tm30</th>\n",
       "      <th>sensor_11_tm30</th>\n",
       "      <th>sensor_12_tm30</th>\n",
       "      <th>sensor_13_tm30</th>\n",
       "      <th>sensor_14_tm30</th>\n",
       "      <th>sensor_15_tm30</th>\n",
       "      <th>sensor_17_tm30</th>\n",
       "      <th>sensor_20_tm30</th>\n",
       "      <th>sensor_21_tm30</th>\n",
       "    </tr>\n",
       "  </thead>\n",
       "  <tbody>\n",
       "    <tr>\n",
       "      <th>0</th>\n",
       "      <td>1</td>\n",
       "      <td>31</td>\n",
       "      <td>642.02</td>\n",
       "      <td>1584.18</td>\n",
       "      <td>1396.90</td>\n",
       "      <td>554.13</td>\n",
       "      <td>2388.08</td>\n",
       "      <td>9058.78</td>\n",
       "      <td>47.41</td>\n",
       "      <td>521.95</td>\n",
       "      <td>...</td>\n",
       "      <td>2388.06</td>\n",
       "      <td>9046.19</td>\n",
       "      <td>47.47</td>\n",
       "      <td>521.66</td>\n",
       "      <td>2388.02</td>\n",
       "      <td>8138.62</td>\n",
       "      <td>8.4195</td>\n",
       "      <td>392.0</td>\n",
       "      <td>39.06</td>\n",
       "      <td>23.4190</td>\n",
       "    </tr>\n",
       "    <tr>\n",
       "      <th>1</th>\n",
       "      <td>1</td>\n",
       "      <td>32</td>\n",
       "      <td>642.33</td>\n",
       "      <td>1591.38</td>\n",
       "      <td>1400.36</td>\n",
       "      <td>554.96</td>\n",
       "      <td>2388.04</td>\n",
       "      <td>9050.97</td>\n",
       "      <td>47.25</td>\n",
       "      <td>521.92</td>\n",
       "      <td>...</td>\n",
       "      <td>2388.04</td>\n",
       "      <td>9044.07</td>\n",
       "      <td>47.49</td>\n",
       "      <td>522.28</td>\n",
       "      <td>2388.07</td>\n",
       "      <td>8131.49</td>\n",
       "      <td>8.4318</td>\n",
       "      <td>392.0</td>\n",
       "      <td>39.00</td>\n",
       "      <td>23.4236</td>\n",
       "    </tr>\n",
       "    <tr>\n",
       "      <th>2</th>\n",
       "      <td>1</td>\n",
       "      <td>33</td>\n",
       "      <td>642.71</td>\n",
       "      <td>1588.40</td>\n",
       "      <td>1402.43</td>\n",
       "      <td>554.61</td>\n",
       "      <td>2388.04</td>\n",
       "      <td>9047.13</td>\n",
       "      <td>47.28</td>\n",
       "      <td>521.91</td>\n",
       "      <td>...</td>\n",
       "      <td>2388.08</td>\n",
       "      <td>9052.94</td>\n",
       "      <td>47.27</td>\n",
       "      <td>522.42</td>\n",
       "      <td>2388.03</td>\n",
       "      <td>8133.23</td>\n",
       "      <td>8.4178</td>\n",
       "      <td>390.0</td>\n",
       "      <td>38.95</td>\n",
       "      <td>23.3442</td>\n",
       "    </tr>\n",
       "    <tr>\n",
       "      <th>3</th>\n",
       "      <td>1</td>\n",
       "      <td>34</td>\n",
       "      <td>642.54</td>\n",
       "      <td>1581.47</td>\n",
       "      <td>1400.48</td>\n",
       "      <td>554.30</td>\n",
       "      <td>2388.03</td>\n",
       "      <td>9046.46</td>\n",
       "      <td>47.47</td>\n",
       "      <td>521.70</td>\n",
       "      <td>...</td>\n",
       "      <td>2388.11</td>\n",
       "      <td>9049.48</td>\n",
       "      <td>47.13</td>\n",
       "      <td>522.86</td>\n",
       "      <td>2388.08</td>\n",
       "      <td>8133.83</td>\n",
       "      <td>8.3682</td>\n",
       "      <td>392.0</td>\n",
       "      <td>38.88</td>\n",
       "      <td>23.3739</td>\n",
       "    </tr>\n",
       "    <tr>\n",
       "      <th>4</th>\n",
       "      <td>1</td>\n",
       "      <td>35</td>\n",
       "      <td>642.44</td>\n",
       "      <td>1590.00</td>\n",
       "      <td>1403.00</td>\n",
       "      <td>554.30</td>\n",
       "      <td>2388.04</td>\n",
       "      <td>9045.76</td>\n",
       "      <td>47.31</td>\n",
       "      <td>521.75</td>\n",
       "      <td>...</td>\n",
       "      <td>2388.06</td>\n",
       "      <td>9055.15</td>\n",
       "      <td>47.28</td>\n",
       "      <td>522.19</td>\n",
       "      <td>2388.04</td>\n",
       "      <td>8133.80</td>\n",
       "      <td>8.4294</td>\n",
       "      <td>393.0</td>\n",
       "      <td>38.90</td>\n",
       "      <td>23.4044</td>\n",
       "    </tr>\n",
       "  </tbody>\n",
       "</table>\n",
       "<p>5 rows × 436 columns</p>\n",
       "</div>"
      ],
      "text/plain": [
       "   machine_number  uptime  sensor_02  sensor_03  sensor_04  sensor_07  \\\n",
       "0               1      31     642.02    1584.18    1396.90     554.13   \n",
       "1               1      32     642.33    1591.38    1400.36     554.96   \n",
       "2               1      33     642.71    1588.40    1402.43     554.61   \n",
       "3               1      34     642.54    1581.47    1400.48     554.30   \n",
       "4               1      35     642.44    1590.00    1403.00     554.30   \n",
       "\n",
       "   sensor_08  sensor_09  sensor_11  sensor_12  ...  sensor_08_tm30  \\\n",
       "0    2388.08    9058.78      47.41     521.95  ...         2388.06   \n",
       "1    2388.04    9050.97      47.25     521.92  ...         2388.04   \n",
       "2    2388.04    9047.13      47.28     521.91  ...         2388.08   \n",
       "3    2388.03    9046.46      47.47     521.70  ...         2388.11   \n",
       "4    2388.04    9045.76      47.31     521.75  ...         2388.06   \n",
       "\n",
       "   sensor_09_tm30  sensor_11_tm30  sensor_12_tm30  sensor_13_tm30  \\\n",
       "0         9046.19           47.47          521.66         2388.02   \n",
       "1         9044.07           47.49          522.28         2388.07   \n",
       "2         9052.94           47.27          522.42         2388.03   \n",
       "3         9049.48           47.13          522.86         2388.08   \n",
       "4         9055.15           47.28          522.19         2388.04   \n",
       "\n",
       "   sensor_14_tm30  sensor_15_tm30  sensor_17_tm30  sensor_20_tm30  \\\n",
       "0         8138.62          8.4195           392.0           39.06   \n",
       "1         8131.49          8.4318           392.0           39.00   \n",
       "2         8133.23          8.4178           390.0           38.95   \n",
       "3         8133.83          8.3682           392.0           38.88   \n",
       "4         8133.80          8.4294           393.0           38.90   \n",
       "\n",
       "   sensor_21_tm30  \n",
       "0         23.4190  \n",
       "1         23.4236  \n",
       "2         23.3442  \n",
       "3         23.3739  \n",
       "4         23.4044  \n",
       "\n",
       "[5 rows x 436 columns]"
      ]
     },
     "execution_count": 133,
     "metadata": {},
     "output_type": "execute_result"
    }
   ],
   "source": [
    "X_train.head()"
   ]
  },
  {
   "cell_type": "code",
   "execution_count": null,
   "id": "38e821fb-e679-4cb8-9499-8d99f05e53d4",
   "metadata": {},
   "outputs": [],
   "source": []
  }
 ],
 "metadata": {
  "kernelspec": {
   "display_name": "Python 3",
   "language": "python",
   "name": "python3"
  },
  "language_info": {
   "codemirror_mode": {
    "name": "ipython",
    "version": 3
   },
   "file_extension": ".py",
   "mimetype": "text/x-python",
   "name": "python",
   "nbconvert_exporter": "python",
   "pygments_lexer": "ipython3",
   "version": "3.9.12"
  }
 },
 "nbformat": 4,
 "nbformat_minor": 5
}
